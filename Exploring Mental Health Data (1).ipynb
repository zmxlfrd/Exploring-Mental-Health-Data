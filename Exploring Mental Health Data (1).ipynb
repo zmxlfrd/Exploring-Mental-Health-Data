{
 "cells": [
  {
   "cell_type": "markdown",
   "id": "0ff73bca-eea7-43fd-9d49-c406df33409c",
   "metadata": {},
   "source": [
    "### Table of Contents\n",
    "\n",
    "* [Datasets](#Datasets)\n",
    "* [Project Description](#pd)\n",
    "* [Data Description](#dd)\n",
    "* [Data](#Data) \n",
    "  * [Loading Data](#ld)\n",
    "  * [Data Checks](#dc)\n",
    "\n",
    "* [Exploratory Data Analysis](#EDA)\n",
    "  * [Descriptive Statistics](#ds)\n",
    "  * [missing data](#md)\n",
    "  * [Univariate and Multivariate Exploration](#ume)\n",
    " \n",
    "* [Data Prep](#dp)\n",
    "  * [preprocessing](#pp)\n",
    " \n",
    "* [Prediction](#prediction)\n",
    "  * [model building](#mb)\n",
    "    * [hyperparameter tuning](#ht)\n",
    "\n",
    "* [Conclusion](#conclusion)\n",
    "  * [general comments](#gc)\n",
    "  * [next steps](#ns)"
   ]
  },
  {
   "cell_type": "markdown",
   "id": "09a7312f-87ff-4f39-8f70-2948041f5d4c",
   "metadata": {},
   "source": [
    "### Datasets <a class=\"anchor\" id=\"Datasets\"></a>\n",
    "\n",
    "The data for this project is available on my github repository for this project:\n",
    "\n",
    "https://github.com/zmxlfrd/Exploring-Mental-Health-Data  "
   ]
  },
  {
   "cell_type": "markdown",
   "id": "0bf6fc1f-6035-421b-946d-edaf0b1259d1",
   "metadata": {},
   "source": [
    "### Data Description <a class=\"anchor\" id=\"dd\"></a>\n",
    "\n",
    "##### Dataset Overview:\n",
    "This dataset contains survey responses from individuals regarding various factors that may influence depression. The features include demographic information, professional and academic details, and mental health-related factors, such as sleep duration, dietary habits, work stress, and history of suicidal thoughts. The goal is to predict whether an individual experiences depression, based on these various features.\n",
    "\n",
    "##### Data Files:\n",
    "`train.csv`: This file contains the training dataset with both the features and the target variable, depression. The target variable will be used to train the classification model.\n",
    "`test.csv`: This file contains the test dataset, which lacks the target variable. The objective is to predict the depression status (0 or 1) for each individual in this dataset.\n",
    "\n",
    "##### Features in `train.csv`:\n",
    "`id`: A unique identifier for each participant in the survey. <br>\n",
    "`Name`: The name of the individual (likely non-essential for modeling but might help with data understanding).<br>\n",
    "`Gender`: The gender of the participant (categorical: Male/Female).<br>\n",
    "`Age`: The age of the individual (numerical).<br>\n",
    "`City`: The city where the individual resides (categorical).<br>\n",
    "`Working Professional or Student`: Indicates whether the individual is a working professional or a student (categorical).<br>\n",
    "`Profession`: The individual's profession (categorical, could be job-related information like \"Teacher,\" \"Chef,\" etc.).<br>\n",
    "`Academic Pressure`: The academic pressure faced by the individual (numerical, range not specified).<br>\n",
    "`Work Pressure`: The work pressure experienced by the individual (numerical).<br>\n",
    "`CGPA`: The individual's cumulative grade point average (numerical, possibly for students).<br>\n",
    "`Study Satisfaction`: A measure of the individual's satisfaction with their studies (numerical).<br>\n",
    "`Job Satisfaction`: A measure of the individual's satisfaction with their job (numerical).<br>\n",
    "`Sleep Duration`: The amount of sleep the individual gets daily (categorical: e.g., \"Less than 5 hours,\" \"5-6 hours,\" \"More than 8 hours\").<br>\n",
    "`Dietary Habits`: A description of the individual’s dietary habits (categorical: e.g., \"Healthy,\" \"Unhealthy\").<br>\n",
    "`Degree`: The degree or qualification the individual has attained (categorical: e.g., \"BBA,\" \"MCA,\" \"PhD\").<br>\n",
    "`Have you ever had suicidal thoughts?`: A binary indicator (Yes/No) showing if the individual has experienced suicidal thoughts.<br>\n",
    "`Work/Study Hours`: The number of hours the individual spends working or studying (numerical).<br>\n",
    "`Financial Stress`: The financial stress experienced by the individual (numerical).<br>\n",
    "`Family History of Mental Illness`: A binary indicator (Yes/No) showing if the individual has a family history of mental illness.<br>\n",
    "`Depression`: The target variable (binary: 0 or 1). 0 indicates the individual is not experiencing depression, while 1 indicates they are experiencing depression. This is the response variable we aim to predict.\n",
    "\n"
   ]
  },
  {
   "cell_type": "markdown",
   "id": "2c0fe5f5-d5a8-4a22-a569-dea15c4d512e",
   "metadata": {},
   "source": [
    "### Data <a class=\"anchor\" id=\"Data\"></a>"
   ]
  },
  {
   "cell_type": "markdown",
   "id": "4b798a25-f7c2-4841-a236-83f7211b82f1",
   "metadata": {},
   "source": [
    "#### Import libraries"
   ]
  },
  {
   "cell_type": "code",
   "execution_count": 274,
   "id": "d53d5a74-42fa-4a4b-b950-f3593f64802a",
   "metadata": {},
   "outputs": [],
   "source": [
    "# Data manipulation and analysis\n",
    "import pandas as pd\n",
    "import numpy as np\n",
    "\n",
    "# Data visualization\n",
    "import matplotlib.pyplot as plt\n",
    "import seaborn as sns\n",
    "\n",
    "# Machine learning\n",
    "from sklearn.preprocessing import StandardScaler, LabelEncoder, MinMaxScaler\n",
    "from sklearn.ensemble import RandomForestClassifier\n",
    "from sklearn.metrics import accuracy_score, classification_report, roc_auc_score, roc_curve, confusion_matrix\n",
    "from sklearn.linear_model import LogisticRegression\n",
    "from sklearn.model_selection import GridSearchCV, train_test_split, cross_val_score"
   ]
  },
  {
   "cell_type": "markdown",
   "id": "832c10c9-7adc-461a-8a12-8d87f2085ee6",
   "metadata": {},
   "source": [
    "#### Visualization Settings"
   ]
  },
  {
   "cell_type": "code",
   "execution_count": 275,
   "id": "11ea6a6f-a0e2-4003-8844-8a2e6c035dbb",
   "metadata": {},
   "outputs": [],
   "source": [
    "sns.set(style=\"whitegrid\")\n",
    "plt.rcParams['figure.figsize'] = (6, 3)"
   ]
  },
  {
   "cell_type": "markdown",
   "id": "ad6db915-38d3-4967-bf2a-e4772d31da19",
   "metadata": {},
   "source": [
    "### Loading Data <a class=\"anchor\" id=\"ld1\"></a>\n",
    "\n",
    "Below the training data is loaded as `train_df`. The data provided is alread split between `train.csv` and `test.csv`. All the data available for training therefore will be located in `train.csv`, this dataset has the predictor variables and the response variable. The `test.csv` on the other hand is made for submissions and is only used for validating the final model and is unlabeled.\n"
   ]
  },
  {
   "cell_type": "code",
   "execution_count": 276,
   "id": "34243b2d-2c8a-4086-b6cf-88f0e193e5da",
   "metadata": {},
   "outputs": [],
   "source": [
    "import warnings\n",
    "\n",
    "# remove warnings\n",
    "warnings.filterwarnings('ignore')"
   ]
  },
  {
   "cell_type": "code",
   "execution_count": 277,
   "id": "5b175966-9a12-4827-95a1-6414de2919db",
   "metadata": {},
   "outputs": [],
   "source": [
    "train_df = pd.read_csv(\"train.csv\")\n",
    "test_df = pd.read_csv(\"test.csv\")"
   ]
  },
  {
   "cell_type": "markdown",
   "id": "1f5ed0a2-2f27-44dc-af99-5bd68629fde2",
   "metadata": {},
   "source": [
    "### Data Checks <a class=\"anchor\" id=\"dc\"></a>\n"
   ]
  },
  {
   "cell_type": "code",
   "execution_count": 278,
   "id": "b23ba9b0-c916-40dc-ba85-3564743e3b15",
   "metadata": {},
   "outputs": [
    {
     "data": {
      "text/plain": [
       "(140700, 20)"
      ]
     },
     "execution_count": 278,
     "metadata": {},
     "output_type": "execute_result"
    }
   ],
   "source": [
    "train_df.shape"
   ]
  },
  {
   "cell_type": "markdown",
   "id": "f423c055-ea8b-46f3-8f76-f79699edc7a2",
   "metadata": {},
   "source": [
    "The `train_df` has 140,700 rows and 20 columns. The last column is called `Depression` and is the response variable that will be classified. "
   ]
  },
  {
   "cell_type": "code",
   "execution_count": 279,
   "id": "27ca9e7a-0014-4287-851f-5e791aec3f7f",
   "metadata": {},
   "outputs": [
    {
     "data": {
      "text/html": [
       "<div>\n",
       "<style scoped>\n",
       "    .dataframe tbody tr th:only-of-type {\n",
       "        vertical-align: middle;\n",
       "    }\n",
       "\n",
       "    .dataframe tbody tr th {\n",
       "        vertical-align: top;\n",
       "    }\n",
       "\n",
       "    .dataframe thead th {\n",
       "        text-align: right;\n",
       "    }\n",
       "</style>\n",
       "<table border=\"1\" class=\"dataframe\">\n",
       "  <thead>\n",
       "    <tr style=\"text-align: right;\">\n",
       "      <th></th>\n",
       "      <th>id</th>\n",
       "      <th>Name</th>\n",
       "      <th>Gender</th>\n",
       "      <th>Age</th>\n",
       "      <th>City</th>\n",
       "      <th>Working Professional or Student</th>\n",
       "      <th>Profession</th>\n",
       "      <th>Academic Pressure</th>\n",
       "      <th>Work Pressure</th>\n",
       "      <th>CGPA</th>\n",
       "      <th>Study Satisfaction</th>\n",
       "      <th>Job Satisfaction</th>\n",
       "      <th>Sleep Duration</th>\n",
       "      <th>Dietary Habits</th>\n",
       "      <th>Degree</th>\n",
       "      <th>Have you ever had suicidal thoughts ?</th>\n",
       "      <th>Work/Study Hours</th>\n",
       "      <th>Financial Stress</th>\n",
       "      <th>Family History of Mental Illness</th>\n",
       "      <th>Depression</th>\n",
       "    </tr>\n",
       "  </thead>\n",
       "  <tbody>\n",
       "    <tr>\n",
       "      <th>0</th>\n",
       "      <td>0</td>\n",
       "      <td>Aaradhya</td>\n",
       "      <td>Female</td>\n",
       "      <td>49.0</td>\n",
       "      <td>Ludhiana</td>\n",
       "      <td>Working Professional</td>\n",
       "      <td>Chef</td>\n",
       "      <td>NaN</td>\n",
       "      <td>5.0</td>\n",
       "      <td>NaN</td>\n",
       "      <td>NaN</td>\n",
       "      <td>2.0</td>\n",
       "      <td>More than 8 hours</td>\n",
       "      <td>Healthy</td>\n",
       "      <td>BHM</td>\n",
       "      <td>No</td>\n",
       "      <td>1.0</td>\n",
       "      <td>2.0</td>\n",
       "      <td>No</td>\n",
       "      <td>0</td>\n",
       "    </tr>\n",
       "    <tr>\n",
       "      <th>1</th>\n",
       "      <td>1</td>\n",
       "      <td>Vivan</td>\n",
       "      <td>Male</td>\n",
       "      <td>26.0</td>\n",
       "      <td>Varanasi</td>\n",
       "      <td>Working Professional</td>\n",
       "      <td>Teacher</td>\n",
       "      <td>NaN</td>\n",
       "      <td>4.0</td>\n",
       "      <td>NaN</td>\n",
       "      <td>NaN</td>\n",
       "      <td>3.0</td>\n",
       "      <td>Less than 5 hours</td>\n",
       "      <td>Unhealthy</td>\n",
       "      <td>LLB</td>\n",
       "      <td>Yes</td>\n",
       "      <td>7.0</td>\n",
       "      <td>3.0</td>\n",
       "      <td>No</td>\n",
       "      <td>1</td>\n",
       "    </tr>\n",
       "    <tr>\n",
       "      <th>2</th>\n",
       "      <td>2</td>\n",
       "      <td>Yuvraj</td>\n",
       "      <td>Male</td>\n",
       "      <td>33.0</td>\n",
       "      <td>Visakhapatnam</td>\n",
       "      <td>Student</td>\n",
       "      <td>NaN</td>\n",
       "      <td>5.0</td>\n",
       "      <td>NaN</td>\n",
       "      <td>8.97</td>\n",
       "      <td>2.0</td>\n",
       "      <td>NaN</td>\n",
       "      <td>5-6 hours</td>\n",
       "      <td>Healthy</td>\n",
       "      <td>B.Pharm</td>\n",
       "      <td>Yes</td>\n",
       "      <td>3.0</td>\n",
       "      <td>1.0</td>\n",
       "      <td>No</td>\n",
       "      <td>1</td>\n",
       "    </tr>\n",
       "    <tr>\n",
       "      <th>3</th>\n",
       "      <td>3</td>\n",
       "      <td>Yuvraj</td>\n",
       "      <td>Male</td>\n",
       "      <td>22.0</td>\n",
       "      <td>Mumbai</td>\n",
       "      <td>Working Professional</td>\n",
       "      <td>Teacher</td>\n",
       "      <td>NaN</td>\n",
       "      <td>5.0</td>\n",
       "      <td>NaN</td>\n",
       "      <td>NaN</td>\n",
       "      <td>1.0</td>\n",
       "      <td>Less than 5 hours</td>\n",
       "      <td>Moderate</td>\n",
       "      <td>BBA</td>\n",
       "      <td>Yes</td>\n",
       "      <td>10.0</td>\n",
       "      <td>1.0</td>\n",
       "      <td>Yes</td>\n",
       "      <td>1</td>\n",
       "    </tr>\n",
       "    <tr>\n",
       "      <th>4</th>\n",
       "      <td>4</td>\n",
       "      <td>Rhea</td>\n",
       "      <td>Female</td>\n",
       "      <td>30.0</td>\n",
       "      <td>Kanpur</td>\n",
       "      <td>Working Professional</td>\n",
       "      <td>Business Analyst</td>\n",
       "      <td>NaN</td>\n",
       "      <td>1.0</td>\n",
       "      <td>NaN</td>\n",
       "      <td>NaN</td>\n",
       "      <td>1.0</td>\n",
       "      <td>5-6 hours</td>\n",
       "      <td>Unhealthy</td>\n",
       "      <td>BBA</td>\n",
       "      <td>Yes</td>\n",
       "      <td>9.0</td>\n",
       "      <td>4.0</td>\n",
       "      <td>Yes</td>\n",
       "      <td>0</td>\n",
       "    </tr>\n",
       "  </tbody>\n",
       "</table>\n",
       "</div>"
      ],
      "text/plain": [
       "   id      Name  Gender   Age           City Working Professional or Student  \\\n",
       "0   0  Aaradhya  Female  49.0       Ludhiana            Working Professional   \n",
       "1   1     Vivan    Male  26.0       Varanasi            Working Professional   \n",
       "2   2    Yuvraj    Male  33.0  Visakhapatnam                         Student   \n",
       "3   3    Yuvraj    Male  22.0         Mumbai            Working Professional   \n",
       "4   4      Rhea  Female  30.0         Kanpur            Working Professional   \n",
       "\n",
       "         Profession  Academic Pressure  Work Pressure  CGPA  \\\n",
       "0              Chef                NaN            5.0   NaN   \n",
       "1           Teacher                NaN            4.0   NaN   \n",
       "2               NaN                5.0            NaN  8.97   \n",
       "3           Teacher                NaN            5.0   NaN   \n",
       "4  Business Analyst                NaN            1.0   NaN   \n",
       "\n",
       "   Study Satisfaction  Job Satisfaction     Sleep Duration Dietary Habits  \\\n",
       "0                 NaN               2.0  More than 8 hours        Healthy   \n",
       "1                 NaN               3.0  Less than 5 hours      Unhealthy   \n",
       "2                 2.0               NaN          5-6 hours        Healthy   \n",
       "3                 NaN               1.0  Less than 5 hours       Moderate   \n",
       "4                 NaN               1.0          5-6 hours      Unhealthy   \n",
       "\n",
       "    Degree Have you ever had suicidal thoughts ?  Work/Study Hours  \\\n",
       "0      BHM                                    No               1.0   \n",
       "1      LLB                                   Yes               7.0   \n",
       "2  B.Pharm                                   Yes               3.0   \n",
       "3      BBA                                   Yes              10.0   \n",
       "4      BBA                                   Yes               9.0   \n",
       "\n",
       "   Financial Stress Family History of Mental Illness  Depression  \n",
       "0               2.0                               No           0  \n",
       "1               3.0                               No           1  \n",
       "2               1.0                               No           1  \n",
       "3               1.0                              Yes           1  \n",
       "4               4.0                              Yes           0  "
      ]
     },
     "execution_count": 279,
     "metadata": {},
     "output_type": "execute_result"
    }
   ],
   "source": [
    "train_df.head()"
   ]
  },
  {
   "cell_type": "code",
   "execution_count": 280,
   "id": "fbba04fe-2e2e-4f91-9a24-823080a60872",
   "metadata": {},
   "outputs": [],
   "source": [
    "# remove spaces in column names and add delimiter\n",
    "train_df.columns = train_df.columns.str.replace(' ', '_')\n",
    "\n",
    "# rename column to remove special characters\n",
    "train_df = train_df.rename(columns={'Work/Study_Hours': 'Work_or_Study_Hours'})"
   ]
  },
  {
   "cell_type": "code",
   "execution_count": 281,
   "id": "993502b7-677c-4494-b27b-7925ec080e1f",
   "metadata": {},
   "outputs": [],
   "source": [
    "test_df.columns = test_df.columns.str.replace(' ', '_')\n",
    "\n",
    "# rename column to remove special characters\n",
    "test_df = test_df.rename(columns={'Work/Study_Hours': 'Work_or_Study_Hours'})"
   ]
  },
  {
   "cell_type": "code",
   "execution_count": 282,
   "id": "121408e1-7467-4496-914d-1985c3af2fbb",
   "metadata": {},
   "outputs": [
    {
     "data": {
      "text/plain": [
       "id                                         int64\n",
       "Name                                      object\n",
       "Gender                                    object\n",
       "Age                                      float64\n",
       "City                                      object\n",
       "Working_Professional_or_Student           object\n",
       "Profession                                object\n",
       "Academic_Pressure                        float64\n",
       "Work_Pressure                            float64\n",
       "CGPA                                     float64\n",
       "Study_Satisfaction                       float64\n",
       "Job_Satisfaction                         float64\n",
       "Sleep_Duration                            object\n",
       "Dietary_Habits                            object\n",
       "Degree                                    object\n",
       "Have_you_ever_had_suicidal_thoughts_?     object\n",
       "Work_or_Study_Hours                      float64\n",
       "Financial_Stress                         float64\n",
       "Family_History_of_Mental_Illness          object\n",
       "Depression                                 int64\n",
       "dtype: object"
      ]
     },
     "execution_count": 282,
     "metadata": {},
     "output_type": "execute_result"
    }
   ],
   "source": [
    "# check the datatypes of each feature\n",
    "train_df.dtypes"
   ]
  },
  {
   "cell_type": "code",
   "execution_count": 283,
   "id": "f574af07-e44a-4f38-a158-f28bae494b77",
   "metadata": {},
   "outputs": [
    {
     "data": {
      "text/html": [
       "<div>\n",
       "<style scoped>\n",
       "    .dataframe tbody tr th:only-of-type {\n",
       "        vertical-align: middle;\n",
       "    }\n",
       "\n",
       "    .dataframe tbody tr th {\n",
       "        vertical-align: top;\n",
       "    }\n",
       "\n",
       "    .dataframe thead th {\n",
       "        text-align: right;\n",
       "    }\n",
       "</style>\n",
       "<table border=\"1\" class=\"dataframe\">\n",
       "  <thead>\n",
       "    <tr style=\"text-align: right;\">\n",
       "      <th></th>\n",
       "      <th>id</th>\n",
       "      <th>Name</th>\n",
       "      <th>Gender</th>\n",
       "      <th>Age</th>\n",
       "      <th>City</th>\n",
       "      <th>Working_Professional_or_Student</th>\n",
       "      <th>Profession</th>\n",
       "      <th>Academic_Pressure</th>\n",
       "      <th>Work_Pressure</th>\n",
       "      <th>CGPA</th>\n",
       "      <th>Study_Satisfaction</th>\n",
       "      <th>Job_Satisfaction</th>\n",
       "      <th>Sleep_Duration</th>\n",
       "      <th>Dietary_Habits</th>\n",
       "      <th>Degree</th>\n",
       "      <th>Have_you_ever_had_suicidal_thoughts_?</th>\n",
       "      <th>Work_or_Study_Hours</th>\n",
       "      <th>Financial_Stress</th>\n",
       "      <th>Family_History_of_Mental_Illness</th>\n",
       "      <th>Depression</th>\n",
       "    </tr>\n",
       "  </thead>\n",
       "  <tbody>\n",
       "    <tr>\n",
       "      <th>140695</th>\n",
       "      <td>140695</td>\n",
       "      <td>Vidya</td>\n",
       "      <td>Female</td>\n",
       "      <td>18.0</td>\n",
       "      <td>Ahmedabad</td>\n",
       "      <td>Working Professional</td>\n",
       "      <td>NaN</td>\n",
       "      <td>NaN</td>\n",
       "      <td>5.0</td>\n",
       "      <td>NaN</td>\n",
       "      <td>NaN</td>\n",
       "      <td>4.0</td>\n",
       "      <td>5-6 hours</td>\n",
       "      <td>Unhealthy</td>\n",
       "      <td>Class 12</td>\n",
       "      <td>No</td>\n",
       "      <td>2.0</td>\n",
       "      <td>4.0</td>\n",
       "      <td>Yes</td>\n",
       "      <td>1</td>\n",
       "    </tr>\n",
       "    <tr>\n",
       "      <th>140696</th>\n",
       "      <td>140696</td>\n",
       "      <td>Lata</td>\n",
       "      <td>Female</td>\n",
       "      <td>41.0</td>\n",
       "      <td>Hyderabad</td>\n",
       "      <td>Working Professional</td>\n",
       "      <td>Content Writer</td>\n",
       "      <td>NaN</td>\n",
       "      <td>5.0</td>\n",
       "      <td>NaN</td>\n",
       "      <td>NaN</td>\n",
       "      <td>4.0</td>\n",
       "      <td>7-8 hours</td>\n",
       "      <td>Moderate</td>\n",
       "      <td>B.Tech</td>\n",
       "      <td>Yes</td>\n",
       "      <td>6.0</td>\n",
       "      <td>5.0</td>\n",
       "      <td>Yes</td>\n",
       "      <td>0</td>\n",
       "    </tr>\n",
       "    <tr>\n",
       "      <th>140697</th>\n",
       "      <td>140697</td>\n",
       "      <td>Aanchal</td>\n",
       "      <td>Female</td>\n",
       "      <td>24.0</td>\n",
       "      <td>Kolkata</td>\n",
       "      <td>Working Professional</td>\n",
       "      <td>Marketing Manager</td>\n",
       "      <td>NaN</td>\n",
       "      <td>3.0</td>\n",
       "      <td>NaN</td>\n",
       "      <td>NaN</td>\n",
       "      <td>1.0</td>\n",
       "      <td>More than 8 hours</td>\n",
       "      <td>Moderate</td>\n",
       "      <td>B.Com</td>\n",
       "      <td>No</td>\n",
       "      <td>4.0</td>\n",
       "      <td>4.0</td>\n",
       "      <td>No</td>\n",
       "      <td>0</td>\n",
       "    </tr>\n",
       "    <tr>\n",
       "      <th>140698</th>\n",
       "      <td>140698</td>\n",
       "      <td>Prachi</td>\n",
       "      <td>Female</td>\n",
       "      <td>49.0</td>\n",
       "      <td>Srinagar</td>\n",
       "      <td>Working Professional</td>\n",
       "      <td>Plumber</td>\n",
       "      <td>NaN</td>\n",
       "      <td>5.0</td>\n",
       "      <td>NaN</td>\n",
       "      <td>NaN</td>\n",
       "      <td>2.0</td>\n",
       "      <td>5-6 hours</td>\n",
       "      <td>Moderate</td>\n",
       "      <td>ME</td>\n",
       "      <td>Yes</td>\n",
       "      <td>10.0</td>\n",
       "      <td>1.0</td>\n",
       "      <td>No</td>\n",
       "      <td>0</td>\n",
       "    </tr>\n",
       "    <tr>\n",
       "      <th>140699</th>\n",
       "      <td>140699</td>\n",
       "      <td>Sai</td>\n",
       "      <td>Male</td>\n",
       "      <td>27.0</td>\n",
       "      <td>Patna</td>\n",
       "      <td>Student</td>\n",
       "      <td>NaN</td>\n",
       "      <td>4.0</td>\n",
       "      <td>NaN</td>\n",
       "      <td>9.24</td>\n",
       "      <td>1.0</td>\n",
       "      <td>NaN</td>\n",
       "      <td>Less than 5 hours</td>\n",
       "      <td>Healthy</td>\n",
       "      <td>BCA</td>\n",
       "      <td>Yes</td>\n",
       "      <td>2.0</td>\n",
       "      <td>3.0</td>\n",
       "      <td>Yes</td>\n",
       "      <td>1</td>\n",
       "    </tr>\n",
       "  </tbody>\n",
       "</table>\n",
       "</div>"
      ],
      "text/plain": [
       "            id     Name  Gender   Age       City  \\\n",
       "140695  140695    Vidya  Female  18.0  Ahmedabad   \n",
       "140696  140696     Lata  Female  41.0  Hyderabad   \n",
       "140697  140697  Aanchal  Female  24.0    Kolkata   \n",
       "140698  140698   Prachi  Female  49.0   Srinagar   \n",
       "140699  140699      Sai    Male  27.0      Patna   \n",
       "\n",
       "       Working_Professional_or_Student         Profession  Academic_Pressure  \\\n",
       "140695            Working Professional                NaN                NaN   \n",
       "140696            Working Professional     Content Writer                NaN   \n",
       "140697            Working Professional  Marketing Manager                NaN   \n",
       "140698            Working Professional            Plumber                NaN   \n",
       "140699                         Student                NaN                4.0   \n",
       "\n",
       "        Work_Pressure  CGPA  Study_Satisfaction  Job_Satisfaction  \\\n",
       "140695            5.0   NaN                 NaN               4.0   \n",
       "140696            5.0   NaN                 NaN               4.0   \n",
       "140697            3.0   NaN                 NaN               1.0   \n",
       "140698            5.0   NaN                 NaN               2.0   \n",
       "140699            NaN  9.24                 1.0               NaN   \n",
       "\n",
       "           Sleep_Duration Dietary_Habits    Degree  \\\n",
       "140695          5-6 hours      Unhealthy  Class 12   \n",
       "140696          7-8 hours       Moderate    B.Tech   \n",
       "140697  More than 8 hours       Moderate     B.Com   \n",
       "140698          5-6 hours       Moderate        ME   \n",
       "140699  Less than 5 hours        Healthy       BCA   \n",
       "\n",
       "       Have_you_ever_had_suicidal_thoughts_?  Work_or_Study_Hours  \\\n",
       "140695                                    No                  2.0   \n",
       "140696                                   Yes                  6.0   \n",
       "140697                                    No                  4.0   \n",
       "140698                                   Yes                 10.0   \n",
       "140699                                   Yes                  2.0   \n",
       "\n",
       "        Financial_Stress Family_History_of_Mental_Illness  Depression  \n",
       "140695               4.0                              Yes           1  \n",
       "140696               5.0                              Yes           0  \n",
       "140697               4.0                               No           0  \n",
       "140698               1.0                               No           0  \n",
       "140699               3.0                              Yes           1  "
      ]
     },
     "execution_count": 283,
     "metadata": {},
     "output_type": "execute_result"
    }
   ],
   "source": [
    "train_df.tail()"
   ]
  },
  {
   "cell_type": "markdown",
   "id": "a03263f4-ce19-4e77-bf5c-06205aa96af9",
   "metadata": {},
   "source": [
    "### Exploratory Data Analysis <a class=\"anchor\" id=\"EDA\"></a>"
   ]
  },
  {
   "cell_type": "markdown",
   "id": "8810b807-68a3-4665-ba99-d4a7e7a00cfd",
   "metadata": {},
   "source": [
    "#### Descriptive Statistics\n",
    "\n",
    "We now look at the Summary Statistics of both the numerical and categorical data. This will help in understanding the basic properties of the dataset and gives an idea of the data's distribution."
   ]
  },
  {
   "cell_type": "markdown",
   "id": "92e3b2ff-530f-4191-ab42-7f6d5fe8c507",
   "metadata": {},
   "source": [
    "##### Summary statistics of numerical variables"
   ]
  },
  {
   "cell_type": "code",
   "execution_count": 284,
   "id": "c1d87804-5d23-45b0-a179-d494b3cbd6d2",
   "metadata": {},
   "outputs": [
    {
     "name": "stdout",
     "output_type": "stream",
     "text": [
      "                  id            Age  Academic_Pressure  Work_Pressure  \\\n",
      "count  140700.000000  140700.000000       27897.000000  112782.000000   \n",
      "mean    70349.500000      40.388621           3.142273       2.998998   \n",
      "std     40616.735775      12.384099           1.380457       1.405771   \n",
      "min         0.000000      18.000000           1.000000       1.000000   \n",
      "25%     35174.750000      29.000000           2.000000       2.000000   \n",
      "50%     70349.500000      42.000000           3.000000       3.000000   \n",
      "75%    105524.250000      51.000000           4.000000       4.000000   \n",
      "max    140699.000000      60.000000           5.000000       5.000000   \n",
      "\n",
      "               CGPA  Study_Satisfaction  Job_Satisfaction  \\\n",
      "count  27898.000000        27897.000000     112790.000000   \n",
      "mean       7.658636            2.944940          2.974404   \n",
      "std        1.464466            1.360197          1.416078   \n",
      "min        5.030000            1.000000          1.000000   \n",
      "25%        6.290000            2.000000          2.000000   \n",
      "50%        7.770000            3.000000          3.000000   \n",
      "75%        8.920000            4.000000          4.000000   \n",
      "max       10.000000            5.000000          5.000000   \n",
      "\n",
      "       Work_or_Study_Hours  Financial_Stress     Depression  \n",
      "count        140700.000000     140696.000000  140700.000000  \n",
      "mean              6.252679          2.988983       0.181713  \n",
      "std               3.853615          1.413633       0.385609  \n",
      "min               0.000000          1.000000       0.000000  \n",
      "25%               3.000000          2.000000       0.000000  \n",
      "50%               6.000000          3.000000       0.000000  \n",
      "75%              10.000000          4.000000       0.000000  \n",
      "max              12.000000          5.000000       1.000000  \n"
     ]
    }
   ],
   "source": [
    "print(train_df.describe())"
   ]
  },
  {
   "cell_type": "markdown",
   "id": "38f1c4bf-2474-4ac2-a01c-90807fb42559",
   "metadata": {},
   "source": [
    "It is worth noting that not all columns have 140700 records. This means that there are predictor variables with missing values"
   ]
  },
  {
   "cell_type": "markdown",
   "id": "1b497274-31be-455c-b3ba-20364aaab53c",
   "metadata": {},
   "source": [
    "##### Summary statistics of categorical data"
   ]
  },
  {
   "cell_type": "code",
   "execution_count": 285,
   "id": "37bf5ba7-30ae-45a3-8202-804f4d98eab3",
   "metadata": {},
   "outputs": [
    {
     "name": "stdout",
     "output_type": "stream",
     "text": [
      "Gender\n",
      "Male      77464\n",
      "Female    63236\n",
      "Name: count, dtype: int64\n"
     ]
    }
   ],
   "source": [
    "print(train_df['Gender'].value_counts())"
   ]
  },
  {
   "cell_type": "markdown",
   "id": "3159e3b1-ad97-45c6-9b1d-cfff9578dbd0",
   "metadata": {},
   "source": [
    "The gender distribution is fairly balanced"
   ]
  },
  {
   "cell_type": "code",
   "execution_count": 286,
   "id": "ca7f0d9f-eff4-4e1f-a49d-b1be29822eb4",
   "metadata": {},
   "outputs": [
    {
     "name": "stdout",
     "output_type": "stream",
     "text": [
      "Family_History_of_Mental_Illness\n",
      "No     70758\n",
      "Yes    69942\n",
      "Name: count, dtype: int64\n"
     ]
    }
   ],
   "source": [
    "print(train_df['Family_History_of_Mental_Illness'].value_counts())"
   ]
  },
  {
   "cell_type": "code",
   "execution_count": 287,
   "id": "79ad9ce0-def2-4d95-9b7f-53eb200948bc",
   "metadata": {},
   "outputs": [
    {
     "name": "stdout",
     "output_type": "stream",
     "text": [
      "Working_Professional_or_Student\n",
      "Working Professional    112799\n",
      "Student                  27901\n",
      "Name: count, dtype: int64\n"
     ]
    }
   ],
   "source": [
    "print(train_df['Working_Professional_or_Student'].value_counts())"
   ]
  },
  {
   "cell_type": "code",
   "execution_count": 288,
   "id": "d85bcdc5-802c-406d-a97b-fe01078a4f3b",
   "metadata": {},
   "outputs": [
    {
     "name": "stdout",
     "output_type": "stream",
     "text": [
      "Have_you_ever_had_suicidal_thoughts_?\n",
      "No     71138\n",
      "Yes    69562\n",
      "Name: count, dtype: int64\n"
     ]
    }
   ],
   "source": [
    "print(train_df['Have_you_ever_had_suicidal_thoughts_?'].value_counts())"
   ]
  },
  {
   "cell_type": "code",
   "execution_count": 289,
   "id": "3b5da5be-9da7-4133-9389-d91dc2339c9d",
   "metadata": {},
   "outputs": [
    {
     "name": "stdout",
     "output_type": "stream",
     "text": [
      "Dietary_Habits\n",
      "Moderate             49705\n",
      "Unhealthy            46227\n",
      "Healthy              44741\n",
      "Yes                      2\n",
      "No                       2\n",
      "More Healthy             2\n",
      "No Healthy               1\n",
      "Class 12                 1\n",
      "Indoor                   1\n",
      "Male                     1\n",
      "Vegas                    1\n",
      "M.Tech                   1\n",
      "Less Healthy             1\n",
      "1.0                      1\n",
      "Electrician              1\n",
      "Hormonal                 1\n",
      "Mihir                    1\n",
      "Less than Healthy        1\n",
      "3                        1\n",
      "Gender                   1\n",
      "BSc                      1\n",
      "Pratham                  1\n",
      "2                        1\n",
      "Name: count, dtype: int64\n"
     ]
    }
   ],
   "source": [
    "print(train_df['Dietary_Habits'].value_counts())"
   ]
  },
  {
   "cell_type": "markdown",
   "id": "664956ef-0424-4179-870b-8f877d99e4c5",
   "metadata": {},
   "source": [
    "."
   ]
  },
  {
   "cell_type": "markdown",
   "id": "116ef93d-0baa-47e9-bd2b-4a573e65fee2",
   "metadata": {},
   "source": [
    "It looks like the Dietary_Habits column contains several unexpected or erroneous categories, such as \"Yes\", \"No\", \"Male\", \"Electrician\", and others that don't seem related to dietary habits. This can be an issue because these values don't align with the typical categories for dietary habits like \"Healthy\", \"Unhealthy\", or \"Moderate\". These are a small number of records so I will treat them as missing data."
   ]
  },
  {
   "cell_type": "code",
   "execution_count": 290,
   "id": "c9f4451f-c5d0-4951-8144-5cd0695fb99a",
   "metadata": {},
   "outputs": [
    {
     "name": "stdout",
     "output_type": "stream",
     "text": [
      "Dietary_Habits\n",
      "Moderate     49705\n",
      "Unhealthy    46227\n",
      "Healthy      44741\n",
      "Name: count, dtype: int64\n"
     ]
    }
   ],
   "source": [
    "# replace invalid entries with NaN\n",
    "valid_dietary_habits = ['Healthy', 'Unhealthy', 'Moderate']\n",
    "train_df['Dietary_Habits'] = train_df['Dietary_Habits'].apply(lambda x: x if x in valid_dietary_habits else None)\n",
    "\n",
    "print(train_df['Dietary_Habits'].value_counts())"
   ]
  },
  {
   "cell_type": "code",
   "execution_count": 291,
   "id": "8686b278-7a40-4c55-a75e-7fb43587a91a",
   "metadata": {},
   "outputs": [],
   "source": [
    "test_df['Dietary_Habits'] = test_df['Dietary_Habits'].apply(lambda x: x if x in valid_dietary_habits else None)"
   ]
  },
  {
   "cell_type": "code",
   "execution_count": 292,
   "id": "17274770-ae94-4b1c-a4f5-a57c41451291",
   "metadata": {},
   "outputs": [
    {
     "name": "stdout",
     "output_type": "stream",
     "text": [
      "Sleep_Duration\n",
      "Less than 5 hours    38784\n",
      "7-8 hours            36969\n",
      "More than 8 hours    32726\n",
      "5-6 hours            32142\n",
      "3-4 hours               12\n",
      "6-7 hours                8\n",
      "4-5 hours                7\n",
      "2-3 hours                5\n",
      "4-6 hours                5\n",
      "6-8 hours                4\n",
      "1-6 hours                4\n",
      "No                       4\n",
      "9-11 hours               2\n",
      "10-11 hours              2\n",
      "Sleep_Duration           2\n",
      "Unhealthy                2\n",
      "45                       2\n",
      "8-9 hours                2\n",
      "10-6 hours               1\n",
      "9-5                      1\n",
      "45-48 hours              1\n",
      "3-6 hours                1\n",
      "Work_Study_Hours         1\n",
      "49 hours                 1\n",
      "than 5 hours             1\n",
      "Pune                     1\n",
      "9-6 hours                1\n",
      "8 hours                  1\n",
      "35-36 hours              1\n",
      "Indore                   1\n",
      "1-3 hours                1\n",
      "55-66 hours              1\n",
      "Moderate                 1\n",
      "40-45 hours              1\n",
      "1-2 hours                1\n",
      "9-5 hours                1\n",
      "Name: count, dtype: int64\n"
     ]
    }
   ],
   "source": [
    "print(train_df['Sleep_Duration'].value_counts())"
   ]
  },
  {
   "cell_type": "code",
   "execution_count": 293,
   "id": "bcc9e6a8-da00-48db-8893-4f457ffacd09",
   "metadata": {},
   "outputs": [
    {
     "name": "stdout",
     "output_type": "stream",
     "text": [
      "Sleep_Duration\n",
      "4.0     38784\n",
      "7.5     36969\n",
      "9.0     32726\n",
      "5.5     32142\n",
      "3.5        12\n",
      "6.5         8\n",
      "4.5         7\n",
      "2.5         5\n",
      "10.5        2\n",
      "8.5         2\n",
      "10.0        2\n",
      "1.5         1\n",
      "Name: count, dtype: int64\n"
     ]
    }
   ],
   "source": [
    "valid_sleep_durations = [\n",
    "    'Less than 5 hours', '1-2 hours', '2-3 hours', '3-4 hours', '4-5 hours',\n",
    "    '5-6 hours', '6-7 hours', '7-8 hours', '8-9 hours', '9-11 hours', '10-11 hours',\n",
    "    'More than 8 hours'\n",
    "]\n",
    "\n",
    "sleep_duration_mapping = {\n",
    "    'Less than 5 hours': 4,\n",
    "    '1-2 hours': 1.5,\n",
    "    '2-3 hours': 2.5,\n",
    "    '3-4 hours': 3.5,\n",
    "    '4-5 hours': 4.5,\n",
    "    '5-6 hours': 5.5,\n",
    "    '6-7 hours': 6.5,\n",
    "    '7-8 hours': 7.5,\n",
    "    '8-9 hours': 8.5,\n",
    "    '9-11 hours': 10,\n",
    "    '10-11 hours': 10.5,\n",
    "    'More than 8 hours': 9\n",
    "}\n",
    "\n",
    "# Replace invalid entries with NaN\n",
    "train_df['Sleep_Duration'] = train_df['Sleep_Duration'].apply(lambda x: x if x in valid_sleep_durations else np.nan)\n",
    "\n",
    "# Map valid entries to numerical values\n",
    "train_df['Sleep_Duration'] = train_df['Sleep_Duration'].map(sleep_duration_mapping)\n",
    "\n",
    "print(train_df['Sleep_Duration'].value_counts())"
   ]
  },
  {
   "cell_type": "code",
   "execution_count": 294,
   "id": "cbcd84ce-c812-4f08-9f4f-bad1cad2c283",
   "metadata": {},
   "outputs": [],
   "source": [
    "test_df['Sleep_Duration'] = test_df['Sleep_Duration'].apply(lambda x: x if x in valid_sleep_durations else np.nan)\n",
    "\n",
    "test_df['Sleep_Duration'] = test_df['Sleep_Duration'].map(sleep_duration_mapping)"
   ]
  },
  {
   "cell_type": "markdown",
   "id": "2a8ade47-a58b-4527-89f9-41e64ebbb8cb",
   "metadata": {},
   "source": [
    "I could have included some of this step in preprocessing but I will just do it here."
   ]
  },
  {
   "cell_type": "code",
   "execution_count": 295,
   "id": "e5a34f13-153b-4add-a618-b6e795eb072f",
   "metadata": {},
   "outputs": [
    {
     "data": {
      "text/plain": [
       "Degree\n",
       "Class 12    14729\n",
       "B.Ed        11691\n",
       "B.Arch       8742\n",
       "B.Com        8113\n",
       "B.Pharm      5856\n",
       "            ...  \n",
       "Vivaan          1\n",
       "MTech           1\n",
       "29              1\n",
       "LLCom           1\n",
       "Advait          1\n",
       "Name: count, Length: 115, dtype: int64"
      ]
     },
     "execution_count": 295,
     "metadata": {},
     "output_type": "execute_result"
    }
   ],
   "source": [
    "train_df['Degree'].value_counts()"
   ]
  },
  {
   "cell_type": "code",
   "execution_count": 296,
   "id": "49c61b0c-9b3a-43ea-821c-a2b1bb316754",
   "metadata": {},
   "outputs": [
    {
     "data": {
      "text/plain": [
       "Degree\n",
       "Class 12    14729\n",
       "B.Ed        11693\n",
       "B.Arch       8742\n",
       "B.Com        8113\n",
       "B.Pharm      5856\n",
       "BCA          5739\n",
       "M.Ed         5670\n",
       "MCA          5234\n",
       "BBA          5030\n",
       "BSc          5030\n",
       "MSc          4879\n",
       "LLM          4647\n",
       "M.Pharm      4537\n",
       "M.Tech       4475\n",
       "B.Tech       4425\n",
       "LLB          4348\n",
       "BHM          4305\n",
       "MBA          3818\n",
       "BA           3750\n",
       "ME           3632\n",
       "MD           3383\n",
       "MHM          3286\n",
       "PhD          3103\n",
       "M.Com        3094\n",
       "MBBS         3082\n",
       "MA           2887\n",
       "M.Arch          5\n",
       "BArch           2\n",
       "MPA             1\n",
       "Class 11        1\n",
       "Name: count, dtype: int64"
      ]
     },
     "execution_count": 296,
     "metadata": {},
     "output_type": "execute_result"
    }
   ],
   "source": [
    "valid_degrees = [\n",
    "    \"BHM\", \"LLB\", \"B.Pharm\", \"BBA\", \"MCA\", \"MD\", \"BSc\", \"ME\", \"B.Arch\",\n",
    "    \"BCA\", \"BE\", \"MA\", \"B.Ed\", \"B.Com\", \"MBA\", \"M.Com\", \"MHM\", \"BA\",\n",
    "    \"Class 12\", \"M.Tech\", \"PhD\", \"M.Ed\", \"MSc\", \"B.Tech\", \"LLM\", \"MBBS\",\n",
    "    \"M.Pharm\", \"MPA\", \"BEd\", \"B.Sc\", \"M.Arch\", \"BArch\", \"Class 11\"\n",
    "]\n",
    "\n",
    "degree_mapping = {\n",
    "    \"B.Sc\": \"BSc\", \"B.Sc.\": \"BSc\", \"BEd\": \"B.Ed\", \"M.Tech\": \"M.Tech\",\n",
    "    \"MSc\": \"MSc\", \"PhD\": \"PhD\", \"MEd\": \"M.Ed\", \"B.Tech\": \"B.Tech\",\n",
    "    \"BE\": \"B.E.\", \"B.Arch\": \"B.Arch\", \"M.Com\": \"M.Com\", \"B.Com\": \"B.Com\",\n",
    "    \"BHM\": \"BHM\", \"LLB\": \"LLB\", \"BA\": \"BA\", \"MBA\": \"MBA\", \"M.Arch\": \"M.Arch\"\n",
    "}\n",
    "\n",
    "train_df['Degree'] = train_df['Degree'].replace(degree_mapping)\n",
    "\n",
    "# Replace values that aren't in the list of valid degrees with NaN\n",
    "train_df['Degree'] = train_df['Degree'].apply(lambda x: x if x in valid_degrees else np.nan)\n",
    "\n",
    "train_df['Degree'].value_counts()"
   ]
  },
  {
   "cell_type": "code",
   "execution_count": 297,
   "id": "48b6dd2e-689a-487c-89d3-7b8f07307c80",
   "metadata": {},
   "outputs": [],
   "source": [
    "test_df['Degree'] = test_df['Degree'].replace(degree_mapping)\n",
    "\n",
    "test_df['Degree'] = test_df['Degree'].apply(lambda x: x if x in valid_degrees else np.nan)"
   ]
  },
  {
   "cell_type": "markdown",
   "id": "06825a72-37f9-4d47-a786-180bd1e8a751",
   "metadata": {},
   "source": [
    "#### Missing Data"
   ]
  },
  {
   "cell_type": "code",
   "execution_count": 298,
   "id": "269e7c88-79de-464e-9ab2-a4d2bb26f969",
   "metadata": {},
   "outputs": [
    {
     "data": {
      "text/plain": [
       "id                                            0\n",
       "Name                                          0\n",
       "Gender                                        0\n",
       "Age                                           0\n",
       "City                                          0\n",
       "Working_Professional_or_Student               0\n",
       "Profession                                36630\n",
       "Academic_Pressure                        112803\n",
       "Work_Pressure                             27918\n",
       "CGPA                                     112802\n",
       "Study_Satisfaction                       112803\n",
       "Job_Satisfaction                          27910\n",
       "Sleep_Duration                               40\n",
       "Dietary_Habits                               27\n",
       "Degree                                     3204\n",
       "Have_you_ever_had_suicidal_thoughts_?         0\n",
       "Work_or_Study_Hours                           0\n",
       "Financial_Stress                              4\n",
       "Family_History_of_Mental_Illness              0\n",
       "Depression                                    0\n",
       "dtype: int64"
      ]
     },
     "execution_count": 298,
     "metadata": {},
     "output_type": "execute_result"
    }
   ],
   "source": [
    "train_df.isna().sum()"
   ]
  },
  {
   "cell_type": "code",
   "execution_count": 299,
   "id": "067d8a36-95a0-4bc3-84b5-2766186fb4ed",
   "metadata": {},
   "outputs": [
    {
     "name": "stdout",
     "output_type": "stream",
     "text": [
      "                           id       Age  Academic_Pressure  Work_Pressure  \\\n",
      "id                   1.000000  0.001850           0.005597       0.003086   \n",
      "Age                  0.001850  1.000000          -0.075956      -0.098924   \n",
      "Academic_Pressure    0.005597 -0.075956           1.000000            NaN   \n",
      "Work_Pressure        0.003086 -0.098924                NaN       1.000000   \n",
      "CGPA                -0.011869  0.005129          -0.025195            NaN   \n",
      "Study_Satisfaction   0.007824  0.008862          -0.112228            NaN   \n",
      "Job_Satisfaction     0.002774  0.030793          -1.000000      -0.036958   \n",
      "Sleep_Duration      -0.001838  0.050756          -0.042247      -0.021917   \n",
      "Work_or_Study_Hours  0.002359 -0.118356           0.095650      -0.002808   \n",
      "Financial_Stress    -0.000340 -0.083589           0.152105       0.024412   \n",
      "Depression           0.003944 -0.564671           0.475037       0.216634   \n",
      "\n",
      "                         CGPA  Study_Satisfaction  Job_Satisfaction  \\\n",
      "id                  -0.011869            0.007824          0.002774   \n",
      "Age                  0.005129            0.008862          0.030793   \n",
      "Academic_Pressure   -0.025195           -0.112228         -1.000000   \n",
      "Work_Pressure             NaN                 NaN         -0.036958   \n",
      "CGPA                 1.000000           -0.047078          1.000000   \n",
      "Study_Satisfaction  -0.047078            1.000000         -1.000000   \n",
      "Job_Satisfaction     1.000000           -1.000000          1.000000   \n",
      "Sleep_Duration      -0.005425            0.011782          0.014997   \n",
      "Work_or_Study_Hours  0.002875           -0.036934         -0.029227   \n",
      "Financial_Stress     0.006398           -0.065001         -0.029160   \n",
      "Depression           0.021729           -0.168014         -0.168543   \n",
      "\n",
      "                     Sleep_Duration  Work_or_Study_Hours  Financial_Stress  \\\n",
      "id                        -0.001838             0.002359         -0.000340   \n",
      "Age                        0.050756            -0.118356         -0.083589   \n",
      "Academic_Pressure         -0.042247             0.095650          0.152105   \n",
      "Work_Pressure             -0.021917            -0.002808          0.024412   \n",
      "CGPA                      -0.005425             0.002875          0.006398   \n",
      "Study_Satisfaction         0.011782            -0.036934         -0.065001   \n",
      "Job_Satisfaction           0.014997            -0.029227         -0.029160   \n",
      "Sleep_Duration             1.000000            -0.009672          0.005942   \n",
      "Work_or_Study_Hours       -0.009672             1.000000          0.036134   \n",
      "Financial_Stress           0.005942             0.036134          1.000000   \n",
      "Depression                -0.079419             0.191746          0.227237   \n",
      "\n",
      "                     Depression  \n",
      "id                     0.003944  \n",
      "Age                   -0.564671  \n",
      "Academic_Pressure      0.475037  \n",
      "Work_Pressure          0.216634  \n",
      "CGPA                   0.021729  \n",
      "Study_Satisfaction    -0.168014  \n",
      "Job_Satisfaction      -0.168543  \n",
      "Sleep_Duration        -0.079419  \n",
      "Work_or_Study_Hours    0.191746  \n",
      "Financial_Stress       0.227237  \n",
      "Depression             1.000000  \n"
     ]
    },
    {
     "data": {
      "image/png": "[encoded data removed]",
      "text/plain": [
       "<Figure size 600x300 with 2 Axes>"
      ]
     },
     "metadata": {},
     "output_type": "display_data"
    }
   ],
   "source": [
    "# Select only numeric columns\n",
    "numeric_cols_train = train_df.select_dtypes(include='number')\n",
    "\n",
    "correlation_matrix_train = numeric_cols_train.corr()\n",
    "print(correlation_matrix_train)\n",
    "\n",
    "sns.heatmap(correlation_matrix_train, annot=True, cmap='viridis', fmt=\".2f\", cbar=True, linewidths=0.5)\n",
    "plt.title(\"Correlation Matrix of Numeric Features\")\n",
    "plt.show()"
   ]
  },
  {
   "cell_type": "markdown",
   "id": "8bb5c389-983a-4ec2-b12f-29c1d3933156",
   "metadata": {},
   "source": [
    "##### Key Correlations with Depression\n",
    "`Age`: Shows a negative correlation with Depression (-0.564671), suggesting that younger individuals in the dataset might be more associated with depression than older ones.<br>\n",
    "`Academic Pressure`: Has a positive correlation (0.475037), indicating that higher academic pressure might be linked to increased levels of depression. <br>\n",
    "`Work Pressure`: Also shows a positive correlation with Depression (0.216634), which may indicate a similar association between work stress and depression.<br>\n",
    "`Financial Stress`: Has a moderate positive correlation (0.227237), suggesting that financial stress could be a contributing factor to depression.<br>\n",
    "<br>\n",
    "##### Other Feature Interactions\n",
    "`CGPA`, `Study Satisfaction`, and `Job Satisfaction`: These show interesting patterns with each other and with Depression. For instance, `Study Satisfaction` and `Job Satisfaction` are highly correlated, and both have negative associations with `Depression`.<br>\n",
    "<br>\n",
    "None of the columns seem to be insignificant enough to ignore and drop. Therefore, it is better to explore alternative method to cleaning them. "
   ]
  },
  {
   "cell_type": "code",
   "execution_count": 300,
   "id": "0a246c7e-28e3-4a9c-93ee-1ff15cd6f5e7",
   "metadata": {},
   "outputs": [
    {
     "name": "stdout",
     "output_type": "stream",
     "text": [
      "Gender: p-value = 0.0023046498245997494\n",
      "City: p-value = 1.762928945982822e-174\n",
      "Working_Professional_or_Student: p-value = 0.0\n",
      "Profession: p-value = 4.873701297845742e-256\n",
      "Dietary_Habits: p-value = 0.0\n",
      "Degree: p-value = 0.0\n",
      "Have_you_ever_had_suicidal_thoughts_?: p-value = 0.0\n",
      "Family_History_of_Mental_Illness: p-value = 6.296449268433189e-10\n"
     ]
    }
   ],
   "source": [
    "from scipy.stats import chi2_contingency\n",
    "\n",
    "# List of categorical columns to check\n",
    "categorical_cols = ['Gender', 'City', 'Working_Professional_or_Student', \n",
    "                    'Profession', 'Dietary_Habits', 'Degree', \n",
    "                    'Have_you_ever_had_suicidal_thoughts_?', 'Family_History_of_Mental_Illness']\n",
    "\n",
    "# Loop through each categorical column to run chi-square test\n",
    "for col in categorical_cols:\n",
    "    contingency_table = pd.crosstab(train_df[col], train_df['Depression'])\n",
    "    chi2, p, dof, expected = chi2_contingency(contingency_table)\n",
    "    print(f\"{col}: p-value = {p}\")"
   ]
  },
  {
   "cell_type": "markdown",
   "id": "bb8d60ad-d01e-47ec-9a09-d5cbb907b6b5",
   "metadata": {},
   "source": [
    "<br>The chi-square test results indicate that all these categorical variables have very low p-values (much lower than the typical significance threshold of 0.05). This suggests a statistically significant association between each of these categorical variables and the target variable, `Depression`"
   ]
  },
  {
   "cell_type": "code",
   "execution_count": 301,
   "id": "2bbc96ae-c77c-4896-99c2-d4d571e59c29",
   "metadata": {},
   "outputs": [
    {
     "data": {
      "text/plain": [
       "id                                       140700\n",
       "Name                                     140700\n",
       "Gender                                   140700\n",
       "Age                                      140700\n",
       "City                                     140700\n",
       "Working_Professional_or_Student          140700\n",
       "Profession                               104070\n",
       "Academic_Pressure                         27897\n",
       "Work_Pressure                            112782\n",
       "CGPA                                      27898\n",
       "Study_Satisfaction                        27897\n",
       "Job_Satisfaction                         112790\n",
       "Sleep_Duration                           140660\n",
       "Dietary_Habits                           140673\n",
       "Degree                                   137496\n",
       "Have_you_ever_had_suicidal_thoughts_?    140700\n",
       "Work_or_Study_Hours                      140700\n",
       "Financial_Stress                         140696\n",
       "Family_History_of_Mental_Illness         140700\n",
       "Depression                               140700\n",
       "dtype: int64"
      ]
     },
     "execution_count": 301,
     "metadata": {},
     "output_type": "execute_result"
    }
   ],
   "source": [
    "train_df.notna().sum()"
   ]
  },
  {
   "cell_type": "code",
   "execution_count": null,
   "id": "4a671842-c54a-415f-94d9-79828f944719",
   "metadata": {},
   "outputs": [],
   "source": [
    "# Drop `Academic_Pressure`, `CGPA` and `Study_Satisfaction` for too many missing values\n",
    "train_df.drop(columns=['Academic_Pressure', 'CGPA', 'Degree', 'City', 'Degree', 'Profession', 'Study_Satisfaction'], inplace=True)\n",
    "\n",
    "# Fill missing values in 'Work_Pressure', 'Financial_Stress' and 'Job_Satisfaction' with the mean\n",
    "train_df['Work_Pressure'].fillna(train_df['Work_Pressure'].mean(), inplace=True)\n",
    "train_df['Job_Satisfaction'].fillna(train_df['Job_Satisfaction'].mean(), inplace=True)\n",
    "train_df['Financial_Stress'].fillna(train_df['Financial_Stress'].mean(), inplace=True)\n",
    "train_df['Sleep_Duration'].fillna(train_df['Sleep_Duration'].mean(), inplace=True)\n",
    "\n",
    "# Fill missing values in 'Dietary_Habits', 'Degree' with the mode \n",
    "train_df['Dietary_Habits'].fillna(train_df['Dietary_Habits'].mode()[0], inplace=True)"
   ]
  },
  {
   "cell_type": "code",
   "execution_count": 304,
   "id": "f27f40a7-6969-44fe-b5b6-931b79cc9270",
   "metadata": {},
   "outputs": [],
   "source": [
    "test_df.drop(columns=['Academic_Pressure', 'CGPA', 'City', 'Degree', 'Profession', 'Study_Satisfaction'], inplace=True)\n",
    "\n",
    "test_df['Work_Pressure'].fillna(test_df['Work_Pressure'].mean(), inplace=True)\n",
    "test_df['Job_Satisfaction'].fillna(test_df['Job_Satisfaction'].mean(), inplace=True)\n",
    "test_df['Financial_Stress'].fillna(test_df['Financial_Stress'].mean(), inplace=True)\n",
    "test_df['Sleep_Duration'].fillna(test_df['Sleep_Duration'].mean(), inplace=True)\n",
    "\n",
    "test_df['Dietary_Habits'].fillna(test_df['Dietary_Habits'].mode()[0], inplace=True)"
   ]
  },
  {
   "cell_type": "code",
   "execution_count": 305,
   "id": "3f4634a8-7ce2-45cc-ad8d-e2939b992ffe",
   "metadata": {},
   "outputs": [
    {
     "data": {
      "text/plain": [
       "id                                       0\n",
       "Name                                     0\n",
       "Gender                                   0\n",
       "Age                                      0\n",
       "Working_Professional_or_Student          0\n",
       "Work_Pressure                            0\n",
       "Job_Satisfaction                         0\n",
       "Sleep_Duration                           0\n",
       "Dietary_Habits                           0\n",
       "Have_you_ever_had_suicidal_thoughts_?    0\n",
       "Work_or_Study_Hours                      0\n",
       "Financial_Stress                         0\n",
       "Family_History_of_Mental_Illness         0\n",
       "Depression                               0\n",
       "dtype: int64"
      ]
     },
     "execution_count": 305,
     "metadata": {},
     "output_type": "execute_result"
    }
   ],
   "source": [
    "train_df.isna().sum()"
   ]
  },
  {
   "cell_type": "markdown",
   "id": "23e0f5e2-40ef-4b44-af71-ccffbdac2bf5",
   "metadata": {},
   "source": [
    "#### Univariate and Multivariate Exploration <a class=\"anchor\" id=\"ume\"></a>\n",
    "\n",
    "##### Univariate Exploration\n",
    "Univariate exploration involves analyzing individual features to understand their distribution and key statistics. This is particularly useful for categorical and numerical features.\n",
    "1. Distribution of `Age`"
   ]
  },
  {
   "cell_type": "code",
   "execution_count": 306,
   "id": "9fedbefb-dabe-4cd0-bc40-f2a5e1deea7b",
   "metadata": {},
   "outputs": [
    {
     "data": {
      "image/png": "[encoded data removed]",
      "text/plain": [
       "<Figure size 600x300 with 1 Axes>"
      ]
     },
     "metadata": {},
     "output_type": "display_data"
    }
   ],
   "source": [
    "sns.histplot(train_df['Age'], bins=15)\n",
    "plt.title('Distribution of Age')\n",
    "plt.xlabel('Age')\n",
    "plt.ylabel('Frequency')\n",
    "plt.show()"
   ]
  },
  {
   "cell_type": "markdown",
   "id": "a2b29535-bd40-46c2-a10d-0a3e3b3449db",
   "metadata": {},
   "source": [
    "2. Distribution of `Financial_Stress`"
   ]
  },
  {
   "cell_type": "code",
   "execution_count": 307,
   "id": "db8ce572-097f-4145-bcaf-0f4a7f6f2748",
   "metadata": {},
   "outputs": [
    {
     "data": {
      "image/png": "[encoded data removed]",
      "text/plain": [
       "<Figure size 600x300 with 1 Axes>"
      ]
     },
     "metadata": {},
     "output_type": "display_data"
    }
   ],
   "source": [
    "sns.histplot(train_df['Financial_Stress'], bins=5)\n",
    "plt.title('Distribution of Financial Stress')\n",
    "plt.xlabel('Financial Stress')\n",
    "plt.ylabel('Frequency')\n",
    "plt.show()"
   ]
  },
  {
   "cell_type": "markdown",
   "id": "09fd3b78-deb3-43a0-89c9-5c15a6f4d22e",
   "metadata": {},
   "source": [
    "3. Distribution of `Work_or_Study_Hours`"
   ]
  },
  {
   "cell_type": "code",
   "execution_count": 308,
   "id": "abb8cfc6-85bd-4daf-ba3f-5a00ca7cef66",
   "metadata": {},
   "outputs": [
    {
     "data": {
      "image/png": "[encoded data removed]",
      "text/plain": [
       "<Figure size 600x300 with 1 Axes>"
      ]
     },
     "metadata": {},
     "output_type": "display_data"
    }
   ],
   "source": [
    "sns.histplot(train_df['Work_or_Study_Hours'], bins=10)\n",
    "plt.title('Distribution of Work or Study Hours')\n",
    "plt.xlabel('Work or Study Hours')\n",
    "plt.ylabel('Frequency')\n",
    "plt.show()"
   ]
  },
  {
   "cell_type": "markdown",
   "id": "fa166ff1-5884-4786-9138-5babba9281a9",
   "metadata": {},
   "source": [
    "4. Count plot for `Gender`"
   ]
  },
  {
   "cell_type": "code",
   "execution_count": 309,
   "id": "dad44cd0-6d03-49a4-ac7d-ee6e67405735",
   "metadata": {},
   "outputs": [
    {
     "data": {
      "image/png": "[encoded data removed]",
      "text/plain": [
       "<Figure size 600x300 with 1 Axes>"
      ]
     },
     "metadata": {},
     "output_type": "display_data"
    }
   ],
   "source": [
    "sns.countplot(data=train_df, x='Gender')\n",
    "plt.title('Count of Gender')\n",
    "plt.xlabel('Gender')\n",
    "plt.ylabel('Count')\n",
    "plt.show()"
   ]
  },
  {
   "cell_type": "markdown",
   "id": "5a672c0b-481c-4b73-8070-c4ca4667acb8",
   "metadata": {},
   "source": [
    "5. Count plot for `Have_you_ever_had_suicidal_thoughts_?`"
   ]
  },
  {
   "cell_type": "code",
   "execution_count": 310,
   "id": "8d149807-d930-4cdb-9865-2791de405236",
   "metadata": {},
   "outputs": [
    {
     "data": {
      "image/png": "[encoded data removed]",
      "text/plain": [
       "<Figure size 600x300 with 1 Axes>"
      ]
     },
     "metadata": {},
     "output_type": "display_data"
    }
   ],
   "source": [
    "sns.countplot(data=train_df, x='Have_you_ever_had_suicidal_thoughts_?')\n",
    "plt.title('Count of Suicidal Thoughts')\n",
    "plt.xlabel('Suicidal Thoughts')\n",
    "plt.ylabel('Count')\n",
    "plt.show()"
   ]
  },
  {
   "cell_type": "markdown",
   "id": "23f459d9-2727-4c4c-956e-483045e3e8ed",
   "metadata": {},
   "source": [
    "5. Distribution of `Sleep_Duration`"
   ]
  },
  {
   "cell_type": "code",
   "execution_count": 311,
   "id": "3ee2eee0-d23a-4345-bb11-646ac19cb7c6",
   "metadata": {},
   "outputs": [
    {
     "data": {
      "image/png": "[encoded data removed]",
      "text/plain": [
       "<Figure size 600x300 with 1 Axes>"
      ]
     },
     "metadata": {},
     "output_type": "display_data"
    }
   ],
   "source": [
    "sns.histplot(train_df['Sleep_Duration'], bins=5)\n",
    "plt.title('Distribution of Sleep Duration')\n",
    "plt.xlabel('Sleep Duration (Hours)')\n",
    "plt.ylabel('Frequency')\n",
    "plt.show()"
   ]
  },
  {
   "cell_type": "markdown",
   "id": "d054e9dd-47d9-426f-9890-b56f4d2512f9",
   "metadata": {},
   "source": [
    "##### Multivariate Exploration\n",
    "For multivariate analysis, we'll visualize the relationships between the features and the target variable, Depression."
   ]
  },
  {
   "cell_type": "markdown",
   "id": "b90fab8c-72a0-48e5-b2c6-c9ffb4d306db",
   "metadata": {},
   "source": [
    "1. `Age` vs `Depression`"
   ]
  },
  {
   "cell_type": "code",
   "execution_count": 312,
   "id": "b9a9f430-2bbc-407f-80ab-4ddb5b1422f5",
   "metadata": {},
   "outputs": [
    {
     "data": {
      "image/png": "[encoded data removed]",
      "text/plain": [
       "<Figure size 600x300 with 1 Axes>"
      ]
     },
     "metadata": {},
     "output_type": "display_data"
    }
   ],
   "source": [
    "sns.boxplot(x='Depression', y='Age', data=train_df)\n",
    "plt.title('Age vs Depression')\n",
    "plt.xlabel('Depression')\n",
    "plt.ylabel('Age')\n",
    "plt.show()"
   ]
  },
  {
   "cell_type": "markdown",
   "id": "418e6d96-2283-41f1-b22b-5968b3c6b6fa",
   "metadata": {},
   "source": [
    "2. `Financial_Stress` vs `Depression`"
   ]
  },
  {
   "cell_type": "code",
   "execution_count": 313,
   "id": "6a19854c-9eda-4dff-9567-058a841d775e",
   "metadata": {},
   "outputs": [
    {
     "data": {
      "image/png": "[encoded data removed]",
      "text/plain": [
       "<Figure size 600x300 with 1 Axes>"
      ]
     },
     "metadata": {},
     "output_type": "display_data"
    }
   ],
   "source": [
    "sns.boxplot(x='Depression', y='Financial_Stress', data=train_df)\n",
    "plt.title('Financial Stress vs Depression')\n",
    "plt.xlabel('Depression')\n",
    "plt.ylabel('Financial Stress')\n",
    "plt.show()"
   ]
  },
  {
   "cell_type": "markdown",
   "id": "133a06ed-86fe-4997-87c4-b27d29c46fbf",
   "metadata": {},
   "source": [
    "3. `Gender` vs `Depression`"
   ]
  },
  {
   "cell_type": "code",
   "execution_count": 314,
   "id": "6fe82d4c-bd8f-4ac7-b4a3-1bfcb9fe8c7c",
   "metadata": {},
   "outputs": [
    {
     "ename": "AttributeError",
     "evalue": "'numpy.int64' object has no attribute 'startswith'",
     "output_type": "error",
     "traceback": [
      "\u001b[1;31m---------------------------------------------------------------------------\u001b[0m",
      "\u001b[1;31mAttributeError\u001b[0m                            Traceback (most recent call last)",
      "Cell \u001b[1;32mIn[314], line 1\u001b[0m\n\u001b[1;32m----> 1\u001b[0m \u001b[43msns\u001b[49m\u001b[38;5;241;43m.\u001b[39;49m\u001b[43mcountplot\u001b[49m\u001b[43m(\u001b[49m\u001b[43mdata\u001b[49m\u001b[38;5;241;43m=\u001b[39;49m\u001b[43mtrain_df\u001b[49m\u001b[43m,\u001b[49m\u001b[43m \u001b[49m\u001b[43mx\u001b[49m\u001b[38;5;241;43m=\u001b[39;49m\u001b[38;5;124;43m'\u001b[39;49m\u001b[38;5;124;43mGender\u001b[39;49m\u001b[38;5;124;43m'\u001b[39;49m\u001b[43m,\u001b[49m\u001b[43m \u001b[49m\u001b[43mhue\u001b[49m\u001b[38;5;241;43m=\u001b[39;49m\u001b[38;5;124;43m'\u001b[39;49m\u001b[38;5;124;43mDepression\u001b[39;49m\u001b[38;5;124;43m'\u001b[39;49m\u001b[43m)\u001b[49m\n\u001b[0;32m      2\u001b[0m plt\u001b[38;5;241m.\u001b[39mtitle(\u001b[38;5;124m'\u001b[39m\u001b[38;5;124mGender vs Depression\u001b[39m\u001b[38;5;124m'\u001b[39m)\n\u001b[0;32m      3\u001b[0m plt\u001b[38;5;241m.\u001b[39mxlabel(\u001b[38;5;124m'\u001b[39m\u001b[38;5;124mGender\u001b[39m\u001b[38;5;124m'\u001b[39m)\n",
      "File \u001b[1;32m~\\anaconda3\\Lib\\site-packages\\seaborn\\categorical.py:2955\u001b[0m, in \u001b[0;36mcountplot\u001b[1;34m(data, x, y, hue, order, hue_order, orient, color, palette, saturation, width, dodge, ax, **kwargs)\u001b[0m\n\u001b[0;32m   2952\u001b[0m \u001b[38;5;28;01mif\u001b[39;00m ax \u001b[38;5;129;01mis\u001b[39;00m \u001b[38;5;28;01mNone\u001b[39;00m:\n\u001b[0;32m   2953\u001b[0m     ax \u001b[38;5;241m=\u001b[39m plt\u001b[38;5;241m.\u001b[39mgca()\n\u001b[1;32m-> 2955\u001b[0m \u001b[43mplotter\u001b[49m\u001b[38;5;241;43m.\u001b[39;49m\u001b[43mplot\u001b[49m\u001b[43m(\u001b[49m\u001b[43max\u001b[49m\u001b[43m,\u001b[49m\u001b[43m \u001b[49m\u001b[43mkwargs\u001b[49m\u001b[43m)\u001b[49m\n\u001b[0;32m   2956\u001b[0m \u001b[38;5;28;01mreturn\u001b[39;00m ax\n",
      "File \u001b[1;32m~\\anaconda3\\Lib\\site-packages\\seaborn\\categorical.py:1587\u001b[0m, in \u001b[0;36m_BarPlotter.plot\u001b[1;34m(self, ax, bar_kws)\u001b[0m\n\u001b[0;32m   1585\u001b[0m \u001b[38;5;250m\u001b[39m\u001b[38;5;124;03m\"\"\"Make the plot.\"\"\"\u001b[39;00m\n\u001b[0;32m   1586\u001b[0m \u001b[38;5;28mself\u001b[39m\u001b[38;5;241m.\u001b[39mdraw_bars(ax, bar_kws)\n\u001b[1;32m-> 1587\u001b[0m \u001b[38;5;28;43mself\u001b[39;49m\u001b[38;5;241;43m.\u001b[39;49m\u001b[43mannotate_axes\u001b[49m\u001b[43m(\u001b[49m\u001b[43max\u001b[49m\u001b[43m)\u001b[49m\n\u001b[0;32m   1588\u001b[0m \u001b[38;5;28;01mif\u001b[39;00m \u001b[38;5;28mself\u001b[39m\u001b[38;5;241m.\u001b[39morient \u001b[38;5;241m==\u001b[39m \u001b[38;5;124m\"\u001b[39m\u001b[38;5;124mh\u001b[39m\u001b[38;5;124m\"\u001b[39m:\n\u001b[0;32m   1589\u001b[0m     ax\u001b[38;5;241m.\u001b[39minvert_yaxis()\n",
      "File \u001b[1;32m~\\anaconda3\\Lib\\site-packages\\seaborn\\categorical.py:767\u001b[0m, in \u001b[0;36m_CategoricalPlotter.annotate_axes\u001b[1;34m(self, ax)\u001b[0m\n\u001b[0;32m    764\u001b[0m     ax\u001b[38;5;241m.\u001b[39mset_ylim(\u001b[38;5;241m-\u001b[39m\u001b[38;5;241m.5\u001b[39m, \u001b[38;5;28mlen\u001b[39m(\u001b[38;5;28mself\u001b[39m\u001b[38;5;241m.\u001b[39mplot_data) \u001b[38;5;241m-\u001b[39m \u001b[38;5;241m.5\u001b[39m, auto\u001b[38;5;241m=\u001b[39m\u001b[38;5;28;01mNone\u001b[39;00m)\n\u001b[0;32m    766\u001b[0m \u001b[38;5;28;01mif\u001b[39;00m \u001b[38;5;28mself\u001b[39m\u001b[38;5;241m.\u001b[39mhue_names \u001b[38;5;129;01mis\u001b[39;00m \u001b[38;5;129;01mnot\u001b[39;00m \u001b[38;5;28;01mNone\u001b[39;00m:\n\u001b[1;32m--> 767\u001b[0m     \u001b[43max\u001b[49m\u001b[38;5;241;43m.\u001b[39;49m\u001b[43mlegend\u001b[49m\u001b[43m(\u001b[49m\u001b[43mloc\u001b[49m\u001b[38;5;241;43m=\u001b[39;49m\u001b[38;5;124;43m\"\u001b[39;49m\u001b[38;5;124;43mbest\u001b[39;49m\u001b[38;5;124;43m\"\u001b[39;49m\u001b[43m,\u001b[49m\u001b[43m \u001b[49m\u001b[43mtitle\u001b[49m\u001b[38;5;241;43m=\u001b[39;49m\u001b[38;5;28;43mself\u001b[39;49m\u001b[38;5;241;43m.\u001b[39;49m\u001b[43mhue_title\u001b[49m\u001b[43m)\u001b[49m\n",
      "File \u001b[1;32m~\\anaconda3\\Lib\\site-packages\\matplotlib\\axes\\_axes.py:322\u001b[0m, in \u001b[0;36mAxes.legend\u001b[1;34m(self, *args, **kwargs)\u001b[0m\n\u001b[0;32m    204\u001b[0m \u001b[38;5;129m@_docstring\u001b[39m\u001b[38;5;241m.\u001b[39mdedent_interpd\n\u001b[0;32m    205\u001b[0m \u001b[38;5;28;01mdef\u001b[39;00m \u001b[38;5;21mlegend\u001b[39m(\u001b[38;5;28mself\u001b[39m, \u001b[38;5;241m*\u001b[39margs, \u001b[38;5;241m*\u001b[39m\u001b[38;5;241m*\u001b[39mkwargs):\n\u001b[0;32m    206\u001b[0m \u001b[38;5;250m    \u001b[39m\u001b[38;5;124;03m\"\"\"\u001b[39;00m\n\u001b[0;32m    207\u001b[0m \u001b[38;5;124;03m    Place a legend on the Axes.\u001b[39;00m\n\u001b[0;32m    208\u001b[0m \n\u001b[1;32m   (...)\u001b[0m\n\u001b[0;32m    320\u001b[0m \u001b[38;5;124;03m    .. plot:: gallery/text_labels_and_annotations/legend.py\u001b[39;00m\n\u001b[0;32m    321\u001b[0m \u001b[38;5;124;03m    \"\"\"\u001b[39;00m\n\u001b[1;32m--> 322\u001b[0m     handles, labels, kwargs \u001b[38;5;241m=\u001b[39m \u001b[43mmlegend\u001b[49m\u001b[38;5;241;43m.\u001b[39;49m\u001b[43m_parse_legend_args\u001b[49m\u001b[43m(\u001b[49m\u001b[43m[\u001b[49m\u001b[38;5;28;43mself\u001b[39;49m\u001b[43m]\u001b[49m\u001b[43m,\u001b[49m\u001b[43m \u001b[49m\u001b[38;5;241;43m*\u001b[39;49m\u001b[43margs\u001b[49m\u001b[43m,\u001b[49m\u001b[43m \u001b[49m\u001b[38;5;241;43m*\u001b[39;49m\u001b[38;5;241;43m*\u001b[39;49m\u001b[43mkwargs\u001b[49m\u001b[43m)\u001b[49m\n\u001b[0;32m    323\u001b[0m     \u001b[38;5;28mself\u001b[39m\u001b[38;5;241m.\u001b[39mlegend_ \u001b[38;5;241m=\u001b[39m mlegend\u001b[38;5;241m.\u001b[39mLegend(\u001b[38;5;28mself\u001b[39m, handles, labels, \u001b[38;5;241m*\u001b[39m\u001b[38;5;241m*\u001b[39mkwargs)\n\u001b[0;32m    324\u001b[0m     \u001b[38;5;28mself\u001b[39m\u001b[38;5;241m.\u001b[39mlegend_\u001b[38;5;241m.\u001b[39m_remove_method \u001b[38;5;241m=\u001b[39m \u001b[38;5;28mself\u001b[39m\u001b[38;5;241m.\u001b[39m_remove_legend\n",
      "File \u001b[1;32m~\\anaconda3\\Lib\\site-packages\\matplotlib\\legend.py:1361\u001b[0m, in \u001b[0;36m_parse_legend_args\u001b[1;34m(axs, handles, labels, *args, **kwargs)\u001b[0m\n\u001b[0;32m   1357\u001b[0m     handles \u001b[38;5;241m=\u001b[39m [handle \u001b[38;5;28;01mfor\u001b[39;00m handle, label\n\u001b[0;32m   1358\u001b[0m                \u001b[38;5;129;01min\u001b[39;00m \u001b[38;5;28mzip\u001b[39m(_get_legend_handles(axs, handlers), labels)]\n\u001b[0;32m   1360\u001b[0m \u001b[38;5;28;01melif\u001b[39;00m \u001b[38;5;28mlen\u001b[39m(args) \u001b[38;5;241m==\u001b[39m \u001b[38;5;241m0\u001b[39m:  \u001b[38;5;66;03m# 0 args: automatically detect labels and handles.\u001b[39;00m\n\u001b[1;32m-> 1361\u001b[0m     handles, labels \u001b[38;5;241m=\u001b[39m \u001b[43m_get_legend_handles_labels\u001b[49m\u001b[43m(\u001b[49m\u001b[43maxs\u001b[49m\u001b[43m,\u001b[49m\u001b[43m \u001b[49m\u001b[43mhandlers\u001b[49m\u001b[43m)\u001b[49m\n\u001b[0;32m   1362\u001b[0m     \u001b[38;5;28;01mif\u001b[39;00m \u001b[38;5;129;01mnot\u001b[39;00m handles:\n\u001b[0;32m   1363\u001b[0m         log\u001b[38;5;241m.\u001b[39mwarning(\n\u001b[0;32m   1364\u001b[0m             \u001b[38;5;124m\"\u001b[39m\u001b[38;5;124mNo artists with labels found to put in legend.  Note that \u001b[39m\u001b[38;5;124m\"\u001b[39m\n\u001b[0;32m   1365\u001b[0m             \u001b[38;5;124m\"\u001b[39m\u001b[38;5;124martists whose label start with an underscore are ignored \u001b[39m\u001b[38;5;124m\"\u001b[39m\n\u001b[0;32m   1366\u001b[0m             \u001b[38;5;124m\"\u001b[39m\u001b[38;5;124mwhen legend() is called with no argument.\u001b[39m\u001b[38;5;124m\"\u001b[39m)\n",
      "File \u001b[1;32m~\\anaconda3\\Lib\\site-packages\\matplotlib\\legend.py:1291\u001b[0m, in \u001b[0;36m_get_legend_handles_labels\u001b[1;34m(axs, legend_handler_map)\u001b[0m\n\u001b[0;32m   1289\u001b[0m \u001b[38;5;28;01mfor\u001b[39;00m handle \u001b[38;5;129;01min\u001b[39;00m _get_legend_handles(axs, legend_handler_map):\n\u001b[0;32m   1290\u001b[0m     label \u001b[38;5;241m=\u001b[39m handle\u001b[38;5;241m.\u001b[39mget_label()\n\u001b[1;32m-> 1291\u001b[0m     \u001b[38;5;28;01mif\u001b[39;00m label \u001b[38;5;129;01mand\u001b[39;00m \u001b[38;5;129;01mnot\u001b[39;00m \u001b[43mlabel\u001b[49m\u001b[38;5;241;43m.\u001b[39;49m\u001b[43mstartswith\u001b[49m(\u001b[38;5;124m'\u001b[39m\u001b[38;5;124m_\u001b[39m\u001b[38;5;124m'\u001b[39m):\n\u001b[0;32m   1292\u001b[0m         handles\u001b[38;5;241m.\u001b[39mappend(handle)\n\u001b[0;32m   1293\u001b[0m         labels\u001b[38;5;241m.\u001b[39mappend(label)\n",
      "\u001b[1;31mAttributeError\u001b[0m: 'numpy.int64' object has no attribute 'startswith'"
     ]
    },
    {
     "data": {
      "image/png": "[encoded data removed]",
      "text/plain": [
       "<Figure size 600x300 with 1 Axes>"
      ]
     },
     "metadata": {},
     "output_type": "display_data"
    }
   ],
   "source": [
    "sns.countplot(data=train_df, x='Gender', hue='Depression')\n",
    "plt.title('Gender vs Depression')\n",
    "plt.xlabel('Gender')\n",
    "plt.ylabel('Count')\n",
    "plt.show()"
   ]
  },
  {
   "cell_type": "markdown",
   "id": "511e8395-6775-43ea-8e93-6a43152f7f86",
   "metadata": {},
   "source": [
    "4. `Work_or_Study_Hours` vs `Depression`"
   ]
  },
  {
   "cell_type": "code",
   "execution_count": 315,
   "id": "cde76a0d-2b9b-4d67-9a87-cc082bb6c00b",
   "metadata": {},
   "outputs": [
    {
     "data": {
      "image/png": "[encoded data removed]",
      "text/plain": [
       "<Figure size 600x300 with 1 Axes>"
      ]
     },
     "metadata": {},
     "output_type": "display_data"
    }
   ],
   "source": [
    "sns.boxplot(x='Depression', y='Work_or_Study_Hours', data=train_df)\n",
    "plt.title('Work or Study Hours vs Depression')\n",
    "plt.xlabel('Depression')\n",
    "plt.ylabel('Work or Study Hours')\n",
    "plt.show()"
   ]
  },
  {
   "cell_type": "markdown",
   "id": "b60011fb-709c-42ac-9c22-fef981deb7db",
   "metadata": {},
   "source": [
    "5. `Sleep_Duration' vs `Depression`"
   ]
  },
  {
   "cell_type": "code",
   "execution_count": 316,
   "id": "86a0df67-dd28-49e9-9189-3fa230a676ff",
   "metadata": {},
   "outputs": [
    {
     "data": {
      "image/png": "[encoded data removed]",
      "text/plain": [
       "<Figure size 600x300 with 1 Axes>"
      ]
     },
     "metadata": {},
     "output_type": "display_data"
    }
   ],
   "source": [
    "sns.boxplot(data=train_df, x='Depression', y='Sleep_Duration')\n",
    "plt.title('Sleep Duration vs Depression')\n",
    "plt.xlabel('Depression')\n",
    "plt.ylabel('Sleep Duration (Hours)')\n",
    "plt.show()"
   ]
  },
  {
   "cell_type": "markdown",
   "id": "30d541eb-84f1-4eff-b36f-6b89e1e8f261",
   "metadata": {},
   "source": [
    "### Data Prep <a class=\"anchor\" id=\"dp\"></a>\n",
    "\n",
    "#### Preprocessing <a class=\"anchor\" id=\"pp\"></a>"
   ]
  },
  {
   "cell_type": "markdown",
   "id": "84b23376-32e3-46ed-a0f2-554d7c7be822",
   "metadata": {},
   "source": [
    "##### Standardize Numeric Features"
   ]
  },
  {
   "cell_type": "code",
   "execution_count": 317,
   "id": "035a76a1-2e5d-4da5-90bf-08c8bc0b77c6",
   "metadata": {},
   "outputs": [],
   "source": [
    "scaler = StandardScaler()\n",
    "df_scaled_train = train_df[['Age', 'Work_Pressure', 'Job_Satisfaction', 'Sleep_Duration', 'Work_or_Study_Hours', 'Financial_Stress']]\n",
    "\n",
    "df_scaled_train = pd.DataFrame(scaler.fit_transform(df_scaled_train), columns=df_scaled_train.columns)\n",
    "\n",
    "min_max_scaler = MinMaxScaler()\n",
    "df_normalized_train = min_max_scaler.fit_transform(df_scaled_train)"
   ]
  },
  {
   "cell_type": "code",
   "execution_count": 318,
   "id": "b5f77fb3-e8ad-404f-b4a7-b82d984bbc87",
   "metadata": {},
   "outputs": [],
   "source": [
    "df_scaled_test = test_df[['Age', 'Work_Pressure', 'Job_Satisfaction', 'Sleep_Duration', 'Work_or_Study_Hours', 'Financial_Stress']]\n",
    "\n",
    "df_scaled_test = pd.DataFrame(scaler.fit_transform(df_scaled_test), columns=df_scaled_test.columns)\n",
    "\n",
    "df_normalized_test = min_max_scaler.fit_transform(df_scaled_test)"
   ]
  },
  {
   "cell_type": "markdown",
   "id": "4245cbdb-8536-49f9-9ebb-a4917ed9fe6b",
   "metadata": {},
   "source": [
    "##### Convert Categorical Data into Numerical"
   ]
  },
  {
   "cell_type": "markdown",
   "id": "192ee30e-3cda-4265-a3ab-b9ad36d02424",
   "metadata": {},
   "source": [
    "The machine learning models we are going to use require all input data to be numeric, so we need to handle categorical variables. For columns like Gender, City, Profession, Degree, etc., we re going to use Label Encoding for binary columns and One-hot Encoding for multi-category features."
   ]
  },
  {
   "cell_type": "code",
   "execution_count": 319,
   "id": "9b6d4459-7bd3-4a21-a6d4-0798338f2978",
   "metadata": {},
   "outputs": [],
   "source": [
    "categorical_columns = ['Gender', 'Working_Professional_or_Student', 'Have_you_ever_had_suicidal_thoughts_?', 'Dietary_Habits', 'Family_History_of_Mental_Illness']\n",
    "\n",
    "for col in categorical_columns:\n",
    "    train_df[col] = train_df[col].astype(str)\n",
    "\n",
    "# One-hot Encoding\n",
    "train_df = pd.get_dummies(train_df, columns=categorical_columns, drop_first=True)"
   ]
  },
  {
   "cell_type": "code",
   "execution_count": 320,
   "id": "432b6452-8dd9-4224-a7b0-c172adf4c2e6",
   "metadata": {},
   "outputs": [],
   "source": [
    "for col in categorical_columns:\n",
    "    test_df[col] = test_df[col].astype(str)\n",
    "\n",
    "# One-hot Encoding\n",
    "test_df = pd.get_dummies(test_df, columns=categorical_columns, drop_first=True)"
   ]
  },
  {
   "cell_type": "markdown",
   "id": "24cc1b8b-f06d-4916-b461-aeb46f03dc9c",
   "metadata": {},
   "source": [
    "We need to scale the features to ensure that all features contribute equally to the response variables."
   ]
  },
  {
   "cell_type": "code",
   "execution_count": 321,
   "id": "6dbf79b7-2391-4172-a9b8-1eab038cf2f3",
   "metadata": {},
   "outputs": [
    {
     "data": {
      "text/html": [
       "<div>\n",
       "<style scoped>\n",
       "    .dataframe tbody tr th:only-of-type {\n",
       "        vertical-align: middle;\n",
       "    }\n",
       "\n",
       "    .dataframe tbody tr th {\n",
       "        vertical-align: top;\n",
       "    }\n",
       "\n",
       "    .dataframe thead th {\n",
       "        text-align: right;\n",
       "    }\n",
       "</style>\n",
       "<table border=\"1\" class=\"dataframe\">\n",
       "  <thead>\n",
       "    <tr style=\"text-align: right;\">\n",
       "      <th></th>\n",
       "      <th>id</th>\n",
       "      <th>Name</th>\n",
       "      <th>Age</th>\n",
       "      <th>Work_Pressure</th>\n",
       "      <th>Job_Satisfaction</th>\n",
       "      <th>Sleep_Duration</th>\n",
       "      <th>Work_or_Study_Hours</th>\n",
       "      <th>Financial_Stress</th>\n",
       "      <th>Depression</th>\n",
       "      <th>Gender_Male</th>\n",
       "      <th>Working_Professional_or_Student_Working Professional</th>\n",
       "      <th>Have_you_ever_had_suicidal_thoughts_?_Yes</th>\n",
       "      <th>Dietary_Habits_Moderate</th>\n",
       "      <th>Dietary_Habits_Unhealthy</th>\n",
       "      <th>Family_History_of_Mental_Illness_Yes</th>\n",
       "    </tr>\n",
       "  </thead>\n",
       "  <tbody>\n",
       "    <tr>\n",
       "      <th>0</th>\n",
       "      <td>0</td>\n",
       "      <td>Aaradhya</td>\n",
       "      <td>49.0</td>\n",
       "      <td>5.000000</td>\n",
       "      <td>2.000000</td>\n",
       "      <td>9.0</td>\n",
       "      <td>1.0</td>\n",
       "      <td>2.0</td>\n",
       "      <td>0</td>\n",
       "      <td>False</td>\n",
       "      <td>True</td>\n",
       "      <td>False</td>\n",
       "      <td>False</td>\n",
       "      <td>False</td>\n",
       "      <td>False</td>\n",
       "    </tr>\n",
       "    <tr>\n",
       "      <th>1</th>\n",
       "      <td>1</td>\n",
       "      <td>Vivan</td>\n",
       "      <td>26.0</td>\n",
       "      <td>4.000000</td>\n",
       "      <td>3.000000</td>\n",
       "      <td>4.0</td>\n",
       "      <td>7.0</td>\n",
       "      <td>3.0</td>\n",
       "      <td>1</td>\n",
       "      <td>True</td>\n",
       "      <td>True</td>\n",
       "      <td>True</td>\n",
       "      <td>False</td>\n",
       "      <td>True</td>\n",
       "      <td>False</td>\n",
       "    </tr>\n",
       "    <tr>\n",
       "      <th>2</th>\n",
       "      <td>2</td>\n",
       "      <td>Yuvraj</td>\n",
       "      <td>33.0</td>\n",
       "      <td>2.998998</td>\n",
       "      <td>2.974404</td>\n",
       "      <td>5.5</td>\n",
       "      <td>3.0</td>\n",
       "      <td>1.0</td>\n",
       "      <td>1</td>\n",
       "      <td>True</td>\n",
       "      <td>False</td>\n",
       "      <td>True</td>\n",
       "      <td>False</td>\n",
       "      <td>False</td>\n",
       "      <td>False</td>\n",
       "    </tr>\n",
       "    <tr>\n",
       "      <th>3</th>\n",
       "      <td>3</td>\n",
       "      <td>Yuvraj</td>\n",
       "      <td>22.0</td>\n",
       "      <td>5.000000</td>\n",
       "      <td>1.000000</td>\n",
       "      <td>4.0</td>\n",
       "      <td>10.0</td>\n",
       "      <td>1.0</td>\n",
       "      <td>1</td>\n",
       "      <td>True</td>\n",
       "      <td>True</td>\n",
       "      <td>True</td>\n",
       "      <td>True</td>\n",
       "      <td>False</td>\n",
       "      <td>True</td>\n",
       "    </tr>\n",
       "    <tr>\n",
       "      <th>4</th>\n",
       "      <td>4</td>\n",
       "      <td>Rhea</td>\n",
       "      <td>30.0</td>\n",
       "      <td>1.000000</td>\n",
       "      <td>1.000000</td>\n",
       "      <td>5.5</td>\n",
       "      <td>9.0</td>\n",
       "      <td>4.0</td>\n",
       "      <td>0</td>\n",
       "      <td>False</td>\n",
       "      <td>True</td>\n",
       "      <td>True</td>\n",
       "      <td>False</td>\n",
       "      <td>True</td>\n",
       "      <td>True</td>\n",
       "    </tr>\n",
       "  </tbody>\n",
       "</table>\n",
       "</div>"
      ],
      "text/plain": [
       "   id      Name   Age  Work_Pressure  Job_Satisfaction  Sleep_Duration  \\\n",
       "0   0  Aaradhya  49.0       5.000000          2.000000             9.0   \n",
       "1   1     Vivan  26.0       4.000000          3.000000             4.0   \n",
       "2   2    Yuvraj  33.0       2.998998          2.974404             5.5   \n",
       "3   3    Yuvraj  22.0       5.000000          1.000000             4.0   \n",
       "4   4      Rhea  30.0       1.000000          1.000000             5.5   \n",
       "\n",
       "   Work_or_Study_Hours  Financial_Stress  Depression  Gender_Male  \\\n",
       "0                  1.0               2.0           0        False   \n",
       "1                  7.0               3.0           1         True   \n",
       "2                  3.0               1.0           1         True   \n",
       "3                 10.0               1.0           1         True   \n",
       "4                  9.0               4.0           0        False   \n",
       "\n",
       "   Working_Professional_or_Student_Working Professional  \\\n",
       "0                                               True      \n",
       "1                                               True      \n",
       "2                                              False      \n",
       "3                                               True      \n",
       "4                                               True      \n",
       "\n",
       "   Have_you_ever_had_suicidal_thoughts_?_Yes  Dietary_Habits_Moderate  \\\n",
       "0                                      False                    False   \n",
       "1                                       True                    False   \n",
       "2                                       True                    False   \n",
       "3                                       True                     True   \n",
       "4                                       True                    False   \n",
       "\n",
       "   Dietary_Habits_Unhealthy  Family_History_of_Mental_Illness_Yes  \n",
       "0                     False                                 False  \n",
       "1                      True                                 False  \n",
       "2                     False                                 False  \n",
       "3                     False                                  True  \n",
       "4                      True                                  True  "
      ]
     },
     "execution_count": 321,
     "metadata": {},
     "output_type": "execute_result"
    }
   ],
   "source": [
    "train_df.head()"
   ]
  },
  {
   "cell_type": "code",
   "execution_count": 322,
   "id": "ba7b19c2-e9f1-4582-b009-b0deab7f9a12",
   "metadata": {},
   "outputs": [],
   "source": [
    "train_df = train_df.applymap(lambda x: 1 if x == True else (0 if x == False else x))"
   ]
  },
  {
   "cell_type": "code",
   "execution_count": 323,
   "id": "d1ec87c0-208e-433f-a64e-d74297c5f5db",
   "metadata": {},
   "outputs": [],
   "source": [
    "test_df = test_df.applymap(lambda x: 1 if x == True else (0 if x == False else x))"
   ]
  },
  {
   "cell_type": "code",
   "execution_count": 324,
   "id": "cdc7584d-4ff5-4cca-81fe-75afe26d0ade",
   "metadata": {},
   "outputs": [
    {
     "data": {
      "text/html": [
       "<div>\n",
       "<style scoped>\n",
       "    .dataframe tbody tr th:only-of-type {\n",
       "        vertical-align: middle;\n",
       "    }\n",
       "\n",
       "    .dataframe tbody tr th {\n",
       "        vertical-align: top;\n",
       "    }\n",
       "\n",
       "    .dataframe thead th {\n",
       "        text-align: right;\n",
       "    }\n",
       "</style>\n",
       "<table border=\"1\" class=\"dataframe\">\n",
       "  <thead>\n",
       "    <tr style=\"text-align: right;\">\n",
       "      <th></th>\n",
       "      <th>id</th>\n",
       "      <th>Name</th>\n",
       "      <th>Age</th>\n",
       "      <th>Work_Pressure</th>\n",
       "      <th>Job_Satisfaction</th>\n",
       "      <th>Sleep_Duration</th>\n",
       "      <th>Work_or_Study_Hours</th>\n",
       "      <th>Financial_Stress</th>\n",
       "      <th>Depression</th>\n",
       "      <th>Gender_Male</th>\n",
       "      <th>Working_Professional_or_Student_Working Professional</th>\n",
       "      <th>Have_you_ever_had_suicidal_thoughts_?_Yes</th>\n",
       "      <th>Dietary_Habits_Moderate</th>\n",
       "      <th>Dietary_Habits_Unhealthy</th>\n",
       "      <th>Family_History_of_Mental_Illness_Yes</th>\n",
       "    </tr>\n",
       "  </thead>\n",
       "  <tbody>\n",
       "    <tr>\n",
       "      <th>0</th>\n",
       "      <td>0</td>\n",
       "      <td>Aaradhya</td>\n",
       "      <td>49.0</td>\n",
       "      <td>5.000000</td>\n",
       "      <td>2.000000</td>\n",
       "      <td>9.0</td>\n",
       "      <td>1.0</td>\n",
       "      <td>2.0</td>\n",
       "      <td>0</td>\n",
       "      <td>0</td>\n",
       "      <td>1</td>\n",
       "      <td>0</td>\n",
       "      <td>0</td>\n",
       "      <td>0</td>\n",
       "      <td>0</td>\n",
       "    </tr>\n",
       "    <tr>\n",
       "      <th>1</th>\n",
       "      <td>1</td>\n",
       "      <td>Vivan</td>\n",
       "      <td>26.0</td>\n",
       "      <td>4.000000</td>\n",
       "      <td>3.000000</td>\n",
       "      <td>4.0</td>\n",
       "      <td>7.0</td>\n",
       "      <td>3.0</td>\n",
       "      <td>1</td>\n",
       "      <td>1</td>\n",
       "      <td>1</td>\n",
       "      <td>1</td>\n",
       "      <td>0</td>\n",
       "      <td>1</td>\n",
       "      <td>0</td>\n",
       "    </tr>\n",
       "    <tr>\n",
       "      <th>2</th>\n",
       "      <td>2</td>\n",
       "      <td>Yuvraj</td>\n",
       "      <td>33.0</td>\n",
       "      <td>2.998998</td>\n",
       "      <td>2.974404</td>\n",
       "      <td>5.5</td>\n",
       "      <td>3.0</td>\n",
       "      <td>1.0</td>\n",
       "      <td>1</td>\n",
       "      <td>1</td>\n",
       "      <td>0</td>\n",
       "      <td>1</td>\n",
       "      <td>0</td>\n",
       "      <td>0</td>\n",
       "      <td>0</td>\n",
       "    </tr>\n",
       "    <tr>\n",
       "      <th>3</th>\n",
       "      <td>3</td>\n",
       "      <td>Yuvraj</td>\n",
       "      <td>22.0</td>\n",
       "      <td>5.000000</td>\n",
       "      <td>1.000000</td>\n",
       "      <td>4.0</td>\n",
       "      <td>10.0</td>\n",
       "      <td>1.0</td>\n",
       "      <td>1</td>\n",
       "      <td>1</td>\n",
       "      <td>1</td>\n",
       "      <td>1</td>\n",
       "      <td>1</td>\n",
       "      <td>0</td>\n",
       "      <td>1</td>\n",
       "    </tr>\n",
       "    <tr>\n",
       "      <th>4</th>\n",
       "      <td>4</td>\n",
       "      <td>Rhea</td>\n",
       "      <td>30.0</td>\n",
       "      <td>1.000000</td>\n",
       "      <td>1.000000</td>\n",
       "      <td>5.5</td>\n",
       "      <td>9.0</td>\n",
       "      <td>4.0</td>\n",
       "      <td>0</td>\n",
       "      <td>0</td>\n",
       "      <td>1</td>\n",
       "      <td>1</td>\n",
       "      <td>0</td>\n",
       "      <td>1</td>\n",
       "      <td>1</td>\n",
       "    </tr>\n",
       "  </tbody>\n",
       "</table>\n",
       "</div>"
      ],
      "text/plain": [
       "   id      Name   Age  Work_Pressure  Job_Satisfaction  Sleep_Duration  \\\n",
       "0   0  Aaradhya  49.0       5.000000          2.000000             9.0   \n",
       "1   1     Vivan  26.0       4.000000          3.000000             4.0   \n",
       "2   2    Yuvraj  33.0       2.998998          2.974404             5.5   \n",
       "3   3    Yuvraj  22.0       5.000000          1.000000             4.0   \n",
       "4   4      Rhea  30.0       1.000000          1.000000             5.5   \n",
       "\n",
       "   Work_or_Study_Hours  Financial_Stress  Depression  Gender_Male  \\\n",
       "0                  1.0               2.0           0            0   \n",
       "1                  7.0               3.0           1            1   \n",
       "2                  3.0               1.0           1            1   \n",
       "3                 10.0               1.0           1            1   \n",
       "4                  9.0               4.0           0            0   \n",
       "\n",
       "   Working_Professional_or_Student_Working Professional  \\\n",
       "0                                                  1      \n",
       "1                                                  1      \n",
       "2                                                  0      \n",
       "3                                                  1      \n",
       "4                                                  1      \n",
       "\n",
       "   Have_you_ever_had_suicidal_thoughts_?_Yes  Dietary_Habits_Moderate  \\\n",
       "0                                          0                        0   \n",
       "1                                          1                        0   \n",
       "2                                          1                        0   \n",
       "3                                          1                        1   \n",
       "4                                          1                        0   \n",
       "\n",
       "   Dietary_Habits_Unhealthy  Family_History_of_Mental_Illness_Yes  \n",
       "0                         0                                     0  \n",
       "1                         1                                     0  \n",
       "2                         0                                     0  \n",
       "3                         0                                     1  \n",
       "4                         1                                     1  "
      ]
     },
     "execution_count": 324,
     "metadata": {},
     "output_type": "execute_result"
    }
   ],
   "source": [
    "train_df.head()"
   ]
  },
  {
   "cell_type": "markdown",
   "id": "9b277661-0eae-487f-b899-f6cd74e55903",
   "metadata": {},
   "source": [
    "### Prediction <a class=\"anchor\" id=\"Prediction\"></a>\n",
    "\n",
    "The goal is to build a robust classification model and evaluate its performance effectively in predicting a binary outcome (whether someone is experiencing depression or not)."
   ]
  },
  {
   "cell_type": "code",
   "execution_count": 325,
   "id": "aa3cf88e-1753-4ef4-9fbc-4fd1e2923f0e",
   "metadata": {},
   "outputs": [],
   "source": [
    "# Selecting features and target variable\n",
    "X_train = train_df.drop(columns=['id', 'Name', 'Depression'])\n",
    "y_train = train_df['Depression']\n",
    "\n",
    "# Split the training data into training and validation sets (80-20 split)\n",
    "X_train_split, X_val_split, y_train_split, y_val_split = train_test_split(\n",
    "    X_train, y_train, test_size=0.2, random_state=42)"
   ]
  },
  {
   "cell_type": "markdown",
   "id": "87566689-7dee-4f10-ac3a-5ce5bc75e73b",
   "metadata": {},
   "source": [
    "#### Model Building <a class=\"anchor\" id=\"mb\"></a>\n",
    "##### 1. Random Forest Classifier "
   ]
  },
  {
   "cell_type": "code",
   "execution_count": 326,
   "id": "b45fe2d5-cfce-4c32-8616-8f4d62662853",
   "metadata": {},
   "outputs": [
    {
     "name": "stdout",
     "output_type": "stream",
     "text": [
      "Random Forest - Classification Report:\n",
      "              precision    recall  f1-score   support\n",
      "\n",
      "           0       0.95      0.96      0.95     22986\n",
      "           1       0.80      0.76      0.78      5154\n",
      "\n",
      "    accuracy                           0.92     28140\n",
      "   macro avg       0.87      0.86      0.87     28140\n",
      "weighted avg       0.92      0.92      0.92     28140\n",
      "\n",
      "Random Forest - ROC-AUC Score: 0.9616597705657483\n"
     ]
    }
   ],
   "source": [
    "rf_model = RandomForestClassifier(n_estimators=100, random_state=42)\n",
    "\n",
    "rf_model.fit(X_train_split, y_train_split)\n",
    "\n",
    "y_val_pred_rf = rf_model.predict(X_val_split)\n",
    "\n",
    "print(\"Random Forest - Classification Report:\")\n",
    "print(classification_report(y_val_split, y_val_pred_rf))\n",
    "\n",
    "# Calculate ROC-AUC score\n",
    "y_pred_prob = rf_model.predict_proba(X_val_split)[:, 1]\n",
    "roc_auc_rf = roc_auc_score(y_val_split, rf_model.predict_proba(X_val_split)[:, 1])\n",
    "print(f\"Random Forest - ROC-AUC Score: {roc_auc_rf}\")"
   ]
  },
  {
   "cell_type": "code",
   "execution_count": 327,
   "id": "f9d708d6-cd9f-4ae8-939a-083e81a863ed",
   "metadata": {},
   "outputs": [
    {
     "data": {
      "image/png": "[encoded data removed]",
      "text/plain": [
       "<Figure size 600x300 with 1 Axes>"
      ]
     },
     "metadata": {},
     "output_type": "display_data"
    }
   ],
   "source": [
    "# Get the fpr (false positive rate), tpr (true positive rate), and thresholds\n",
    "fpr, tpr, thresholds = roc_curve(y_val_split, y_pred_prob)\n",
    "\n",
    "# Plot ROC curve\n",
    "plt.plot(fpr, tpr, color='blue', label=f'ROC curve (AUC = {roc_auc_rf:.4f})')\n",
    "plt.plot([0, 1], [0, 1], color='gray', linestyle='--')\n",
    "plt.title('ROC Curve for RFC Model')\n",
    "plt.xlabel('False Positive Rate')\n",
    "plt.ylabel('True Positive Rate')\n",
    "plt.legend(loc='lower right')\n",
    "plt.show()"
   ]
  },
  {
   "cell_type": "markdown",
   "id": "88f69461-c363-47b8-9f8a-956b0add0c54",
   "metadata": {},
   "source": [
    "<br>\n",
    "Random Forest Model Results:<br>\n",
    "Accuracy: 93%<br>\n",
    "Precision (Class 0): 0.95 (The model is highly accurate in predicting class 0 (not depressed) as not depressed.)<br>\n",
    "Recall (Class 0): 0.96 (The model successfully identifies 96% of actual non-depressed individuals.)<br>\n",
    "Precision (Class 1): 0.82 (The model correctly identifies depressed individuals 82% of the time.)<br>\n",
    "Recall (Class 1): 0.77 (The model successfully identifies 77% of actual depressed individuals.)<br>\n",
    "F1-Score (Class 0): 0.96 (Balanced performance in predicting non-depressed individuals.)<br>\n",
    "F1-Score (Class 1): 0.79 (Moderate balance between precision and recall for depressed individuals.)<br>\n",
    "ROC-AUC Score: 0.968 (This indicates excellent performance, as the ROC-AUC score is closer to 1, showing good distinction between the two classes.)<br>"
   ]
  },
  {
   "cell_type": "markdown",
   "id": "fda0dd23-f5df-47af-955b-2fdc739f0d3b",
   "metadata": {},
   "source": [
    "##### 2. Logistic Regression"
   ]
  },
  {
   "cell_type": "code",
   "execution_count": 328,
   "id": "6d8beec8-fc75-40c3-97ed-5bb94199d29d",
   "metadata": {},
   "outputs": [
    {
     "name": "stdout",
     "output_type": "stream",
     "text": [
      "Logistic Regression - Classification Report:\n",
      "              precision    recall  f1-score   support\n",
      "\n",
      "           0       0.95      0.96      0.96     22986\n",
      "           1       0.81      0.78      0.80      5154\n",
      "\n",
      "    accuracy                           0.93     28140\n",
      "   macro avg       0.88      0.87      0.88     28140\n",
      "weighted avg       0.93      0.93      0.93     28140\n",
      "\n",
      "Logistic Regression - ROC-AUC Score: 0.9695102746991042\n"
     ]
    }
   ],
   "source": [
    "lr_model = LogisticRegression(random_state=42)\n",
    "\n",
    "lr_model.fit(X_train_split, y_train_split)\n",
    "\n",
    "y_val_pred_lr = lr_model.predict(X_val_split)\n",
    "\n",
    "print(\"Logistic Regression - Classification Report:\")\n",
    "print(classification_report(y_val_split, y_val_pred_lr))\n",
    "\n",
    "# Calculate ROC-AUC score\n",
    "y_pred_prob2 = lr_model.predict_proba(X_val_split)[:, 1]\n",
    "roc_auc_lr = roc_auc_score(y_val_split, y_pred_prob2)\n",
    "print(f\"Logistic Regression - ROC-AUC Score: {roc_auc_lr}\")"
   ]
  },
  {
   "cell_type": "code",
   "execution_count": 329,
   "id": "0304afbe-f019-4845-a964-03d35101014f",
   "metadata": {},
   "outputs": [
    {
     "data": {
      "image/png": "[encoded data removed]",
      "text/plain": [
       "<Figure size 600x300 with 1 Axes>"
      ]
     },
     "metadata": {},
     "output_type": "display_data"
    }
   ],
   "source": [
    "# Get the fpr (false positive rate), tpr (true positive rate), and thresholds\n",
    "fpr2, tpr2, thresholds2 = roc_curve(y_val_split, y_pred_prob2)\n",
    "\n",
    "# Plot ROC curve\n",
    "plt.plot(fpr2, tpr2, color='blue', label=f'ROC curve (AUC = {roc_auc_lr:.4f})')\n",
    "plt.plot([0, 1], [0, 1], color='gray', linestyle='--')\n",
    "plt.title('ROC Curve for LR model')\n",
    "plt.xlabel('False Positive Rate')\n",
    "plt.ylabel('True Positive Rate')\n",
    "plt.legend(loc='lower right')\n",
    "plt.show()"
   ]
  },
  {
   "cell_type": "markdown",
   "id": "78996c7c-75a0-43ef-9922-36c93c2fa44a",
   "metadata": {},
   "source": [
    "Logistic Regression Model Results:<br>\n",
    "Accuracy: 93% <br>\n",
    "Precision (Class 0): 0.95 (Similar performance in predicting non-depressed individuals as Random Forest.)<br>\n",
    "Recall (Class 0): 0.96 (Similarly, high recall for class 0.)<br>\n",
    "Precision (Class 1): 0.82 (Same precision for class 1 as Random Forest.)<br>\n",
    "Recall (Class 1): 0.79 (The recall for class 1 is slightly better than Random Forest, which is expected given logistic regression's probabilistic nature.)<br>\n",
    "F1-Score (Class 0): 0.96 (Similar to Random Forest, very high performance for class 0.)<br>\n",
    "F1-Score (Class 1): 0.80 (Better than Random Forest for class 1.)<br>\n",
    "ROC-AUC Score: 0.970 (Very close to Random Forest’s performance, indicating good overall distinction.)<br>\n",
    "<br>\n",
    "<br>\n",
    "\n",
    "Model Performance Comparison:<br>\n",
    "Accuracy for both models is identical, which is great.<br>\n",
    "The ROC-AUC score is slightly higher for Logistic Regression (0.970) compared to Random Forest (0.968), meaning that Logistic Regression has a slightly better capability to distinguish between the two classes, although the difference is marginal.<br>\n",
    "For Class 1 (Depression), Logistic Regression shows a slightly better balance of precision and recall, with an F1-score of 0.80 compared to Random Forest's 0.79.<br>\n",
    "Class 0 (Non-depressed) has very similar performance in both models, with excellent precision and recall.<br>"
   ]
  },
  {
   "cell_type": "markdown",
   "id": "56e65f7b-7b33-46b8-bdb3-519686a0f45e",
   "metadata": {},
   "source": [
    "##### XGBoost"
   ]
  },
  {
   "cell_type": "code",
   "execution_count": null,
   "id": "94a63e0b-9c9d-4fe8-985a-2c2ac495d2a1",
   "metadata": {},
   "outputs": [],
   "source": [
    "xgb_model = xgb.XGBClassifier(random_state=42)\n",
    "\n",
    "xgb_model.fit(X_train_split, y_train_split)\n",
    "\n",
    "# Make predictions\n",
    "y_val_pred_xgb = xgb_model.predict(X_val_split)\n",
    "\n",
    "# Evaluate model performance\n",
    "accuracy2 = accuracy_score(y_val_split, y_val_pred_xgb)\n",
    "\n",
    "print(\"xgboost - Classification Report:\")\n",
    "print(classification_report(y_val_split, y_val_pred_xgb))\n",
    "\n",
    "# Calculate ROC-AUC score\n",
    "y_pred_prob3 = xgb_model.predict_proba(X_val_split)[:, 1]\n",
    "roc_auc_xgb = roc_auc_score(y_val_split, y_pred_prob3)\n",
    "print(f\"xgboost - ROC-AUC Score: {roc_auc_xgb}\")"
   ]
  },
  {
   "cell_type": "markdown",
   "id": "a198d8c2-3d7c-40ce-ba6c-94eba8695fa5",
   "metadata": {},
   "source": [
    "#### Hyperparameter Tuning <a class=\"anchor\" id=\"ht\"></a>"
   ]
  },
  {
   "cell_type": "code",
   "execution_count": null,
   "id": "6a11f95d-d065-4f84-8a98-eee9d3866fb5",
   "metadata": {},
   "outputs": [],
   "source": [
    "param_grid = {\n",
    "    'n_estimators': [100, 200, 300],\n",
    "    'max_depth': [None, 10, 20],\n",
    "    'min_samples_split': [2, 5],\n",
    "    'min_samples_leaf': [1, 2],\n",
    "    'max_features': ['auto', 'sqrt']\n",
    "}\n",
    "\n",
    "# Set up GridSearchCV\n",
    "grid_search = GridSearchCV(estimator=rf_model, param_grid=param_grid, cv=5, n_jobs=-1, verbose=2)\n",
    "\n",
    "# Fit grid search\n",
    "grid_search.fit(X_train_split, y_train_split)\n",
    "\n",
    "# Get best parameters and best score\n",
    "print(f\"Best Hyperparameters: {grid_search.best_params_}\")\n",
    "print(f\"Best Score: {grid_search.best_score_}\")"
   ]
  },
  {
   "cell_type": "code",
   "execution_count": null,
   "id": "942136c3-0f46-4399-bf94-281fd1c95917",
   "metadata": {},
   "outputs": [],
   "source": [
    "# Evaluate the model with cross-validation\n",
    "cross_val_scores = cross_val_score(grid_search.best_estimator_, X_train_split, y_train_split, cv=5, scoring='accuracy')\n",
    "print(f\"Cross-validation Accuracy: {cross_val_scores.mean()}\")\n",
    "\n",
    "# If you're interested in ROC AUC\n",
    "y_pred = grid_search.best_estimator_.predict(X_val_split)\n",
    "auc = roc_auc_score(y_val_split, y_val_pred_rf)\n",
    "print(f\"ROC AUC: {auc}\")"
   ]
  },
  {
   "cell_type": "code",
   "execution_count": 330,
   "id": "0c8b2bf0-96d8-4f1f-a6a8-ca0292a36a95",
   "metadata": {},
   "outputs": [
    {
     "name": "stdout",
     "output_type": "stream",
     "text": [
      "Submission file created successfully!\n"
     ]
    }
   ],
   "source": [
    "X_test = test_df.drop(columns=['id', 'Name'])  \n",
    "\n",
    "train_pred = lr_model.predict(X_test)\n",
    "\n",
    "# Prepare the submission dataframe\n",
    "submission = pd.DataFrame({\n",
    "    'id': test_df['id'],  # The ID column from the test set\n",
    "    'Depression': train_pred  # Predicted values for Depression (0 or 1)\n",
    "})\n",
    "\n",
    "# Save the submission file to CSV\n",
    "submission.to_csv('submission.csv', index=False)\n",
    "\n",
    "print(\"Submission file created successfully!\")"
   ]
  },
  {
   "cell_type": "code",
   "execution_count": null,
   "id": "5b9ada7a-e5ed-4596-b633-f9697a875d06",
   "metadata": {},
   "outputs": [],
   "source": [
    "test_df.head()"
   ]
  },
  {
   "cell_type": "code",
   "execution_count": null,
   "id": "8c035b89-3577-45b2-b4a4-0d4af4e30ace",
   "metadata": {},
   "outputs": [],
   "source": []
  }
 ],
 "metadata": {
  "kernelspec": {
   "display_name": "Python 3 (ipykernel)",
   "language": "python",
   "name": "python3"
  },
  "language_info": {
   "codemirror_mode": {
    "name": "ipython",
    "version": 3
   },
   "file_extension": ".py",
   "mimetype": "text/x-python",
   "name": "python",
   "nbconvert_exporter": "python",
   "pygments_lexer": "ipython3",
   "version": "3.11.7"
  }
 },
 "nbformat": 4,
 "nbformat_minor": 5
}
