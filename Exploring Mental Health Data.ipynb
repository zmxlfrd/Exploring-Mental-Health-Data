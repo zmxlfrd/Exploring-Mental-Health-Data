{
 "cells": [
  {
   "cell_type": "markdown",
   "id": "0ff73bca-eea7-43fd-9d49-c406df33409c",
   "metadata": {},
   "source": [
    "### Table of Contents\n",
    "\n",
    "* [Data](#Data) \n",
    "  * loading data\n",
    "  * data check\n",
    "\n",
    "* Exploratory Data Analysis\n",
    "  * summary statistics\n",
    "  * label balance\n",
    "  * missing data\n",
    " \n",
    "* Data Prep\n",
    "  * preprocessing\n",
    " \n",
    "* Prediction\n",
    "  * model building\n",
    "    * hyperparameter tuning\n",
    "\n",
    "* Conclusion\n",
    "  * general comments\n",
    "  * next steps"
   ]
  },
  {
   "cell_type": "markdown",
   "id": "09a7312f-87ff-4f39-8f70-2948041f5d4c",
   "metadata": {},
   "source": [
    "### Data\n",
    "\n",
    "The data for this project is available on my github repository for this project:\n",
    "\n",
    "https://github.com/zmxlfrd/Exploring-Mental-Health-Data \n",
    "\n",
    "Information regarding the features for the data are located in the read me file. "
   ]
  },
  {
   "cell_type": "markdown",
   "id": "ad6db915-38d3-4967-bf2a-e4772d31da19",
   "metadata": {},
   "source": [
    "### Loading Data\n",
    "\n"
   ]
  },
  {
   "cell_type": "code",
   "execution_count": 1,
   "id": "34243b2d-2c8a-4086-b6cf-88f0e193e5da",
   "metadata": {},
   "outputs": [],
   "source": [
    "import warnings\n",
    "\n",
    "# remove warnings\n",
    "warnings.filterwarnings('ignore')"
   ]
  },
  {
   "cell_type": "code",
   "execution_count": null,
   "id": "5b175966-9a12-4827-95a1-6414de2919db",
   "metadata": {},
   "outputs": [],
   "source": [
    "import pandas as pd\n",
    "\n",
    "train_df = pd.read_csv(\"data/train"
   ]
  }
 ],
 "metadata": {
  "kernelspec": {
   "display_name": "Python 3 (ipykernel)",
   "language": "python",
   "name": "python3"
  },
  "language_info": {
   "codemirror_mode": {
    "name": "ipython",
    "version": 3
   },
   "file_extension": ".py",
   "mimetype": "text/x-python",
   "name": "python",
   "nbconvert_exporter": "python",
   "pygments_lexer": "ipython3",
   "version": "3.11.7"
  }
 },
 "nbformat": 4,
 "nbformat_minor": 5
}
